{
 "cells": [
  {
   "cell_type": "markdown",
   "source": [
    "HRCR Definition:"
   ],
   "metadata": {
    "collapsed": false
   }
  },
  {
   "cell_type": "markdown",
   "source": [
    "The category addresses management of the relationship between businesses and the\n",
    "communities in which they operate, including management of direct and indirect impacts on\n",
    "core human rights and the treatment of indigenous peoples. More specifically, such\n",
    "management might cover socio-economic community impacts, community engagement,\n",
    "environmental justice, cultivation of local workforces, impact on local businesses, license to\n",
    "operate, and environmental/social impact assessments. The category does not address\n",
    "environmental impacts such as air pollution or waste."
   ],
   "metadata": {
    "collapsed": false
   }
  },
  {
   "cell_type": "code",
   "execution_count": 26,
   "outputs": [
    {
     "data": {
      "text/plain": "                     Article ID Is this HRCR? (Y/N) Sentiment  \\\n0     ABBNWS0020211116ehbg000jm                   Y  Positive   \n1     ABCGA00020220825ei8o0001j                   N      None   \n2     ABCNEW0020150216eb2g0000i                   Y  Negative   \n3     ABCNEW0020201218egci0002z                   N      None   \n4     ABCNEW0020210204eh230002x                   N      None   \n...                         ...                 ...       ...   \n2179  XNAP000020191201efbt00008                   N      None   \n2180  XNEWS00020191107efb700koh                   N      None   \n2181  XWTH000020171114edbe0000j                   N      None   \n2182  YEDNO00020220919ei9j0008f                   N      None   \n2183  YICAIG0020220317ei3h00039                   N      None   \n\n                                               textbody  \\\n0     \"The proposed legislation will establish a too...   \n1     \"Mr. Zatko's allegations of widespread securit...   \n2     The ground-breaking case has been in and out o...   \n3     The contaminant caused over $70,000 in damages...   \n4     But there has been slow progress to fix the sc...   \n...                                                 ...   \n2179  The move comes on the heels of an earlier laws...   \n2180   The Paris court upheld charges of endangering...   \n2181  The allegations involve the Lehigh Cement Co. ...   \n2182  According to the Dutch company’s statement, a ...   \n2183  The Fuzhou-based company said the situation wo...   \n\n                                      textbody_stripped  \\\n0     the proposed legislation will establish a tool...   \n1     mr. zatkos allegations of widespread security ...   \n2     the ground-breaking case has been in and out o...   \n3     the contaminant caused over 70,000 in damages ...   \n4     but there has been slow progress to fix the sc...   \n...                                                 ...   \n2179  the move comes on the heels of an earlier laws...   \n2180   the paris court upheld charges of endangering...   \n2181  the allegations involve the lehigh cement co. ...   \n2182  according to the dutch companys statement, a t...   \n2183  the fuzhou-based company said the situation wo...   \n\n                                                    NLP  \\\n0     (the, proposed, legislation, will, establish, ...   \n1     (mr, ., zatkos, allegations, of, widespread, s...   \n2     (the, ground, -, breaking, case, has, been, in...   \n3     (the, contaminant, caused, over, 70,000, in, d...   \n4     (but, there, has, been, slow, progress, to, fi...   \n...                                                 ...   \n2179  (the, move, comes, on, the, heels, of, an, ear...   \n2180  ( , the, paris, court, upheld, charges, of, en...   \n2181  (the, allegations, involve, the, lehigh, cemen...   \n2182  (according, to, the, dutch, companys, statemen...   \n2183  (the, fuzhou, -, based, company, said, the, si...   \n\n                                             key_lemmas  \n0     [propose, legislation, establish, tool, enable...  \n1     [mr, zatkos, allegation, widespread, security,...  \n2     [ground, break, case, court, year, appearance,...  \n3     [contaminant, cause, damage, home, car, coasta...  \n4     [slow, progress, fix, scandal, expose, afterma...  \n...                                                 ...  \n2179  [come, heel, early, lawsuit, file, march, cons...  \n2180  [paris, court, uphold, charge, endanger, peopl...  \n2181  [allegation, involve, lehigh, cement, plant, h...  \n2182  [accord, dutch, companys, statement, text, app...  \n2183  [fuzhou, base, company, say, situation, affect...  \n\n[1428 rows x 7 columns]",
      "text/html": "<div>\n<style scoped>\n    .dataframe tbody tr th:only-of-type {\n        vertical-align: middle;\n    }\n\n    .dataframe tbody tr th {\n        vertical-align: top;\n    }\n\n    .dataframe thead th {\n        text-align: right;\n    }\n</style>\n<table border=\"1\" class=\"dataframe\">\n  <thead>\n    <tr style=\"text-align: right;\">\n      <th></th>\n      <th>Article ID</th>\n      <th>Is this HRCR? (Y/N)</th>\n      <th>Sentiment</th>\n      <th>textbody</th>\n      <th>textbody_stripped</th>\n      <th>NLP</th>\n      <th>key_lemmas</th>\n    </tr>\n  </thead>\n  <tbody>\n    <tr>\n      <th>0</th>\n      <td>ABBNWS0020211116ehbg000jm</td>\n      <td>Y</td>\n      <td>Positive</td>\n      <td>\"The proposed legislation will establish a too...</td>\n      <td>the proposed legislation will establish a tool...</td>\n      <td>(the, proposed, legislation, will, establish, ...</td>\n      <td>[propose, legislation, establish, tool, enable...</td>\n    </tr>\n    <tr>\n      <th>1</th>\n      <td>ABCGA00020220825ei8o0001j</td>\n      <td>N</td>\n      <td>None</td>\n      <td>\"Mr. Zatko's allegations of widespread securit...</td>\n      <td>mr. zatkos allegations of widespread security ...</td>\n      <td>(mr, ., zatkos, allegations, of, widespread, s...</td>\n      <td>[mr, zatkos, allegation, widespread, security,...</td>\n    </tr>\n    <tr>\n      <th>2</th>\n      <td>ABCNEW0020150216eb2g0000i</td>\n      <td>Y</td>\n      <td>Negative</td>\n      <td>The ground-breaking case has been in and out o...</td>\n      <td>the ground-breaking case has been in and out o...</td>\n      <td>(the, ground, -, breaking, case, has, been, in...</td>\n      <td>[ground, break, case, court, year, appearance,...</td>\n    </tr>\n    <tr>\n      <th>3</th>\n      <td>ABCNEW0020201218egci0002z</td>\n      <td>N</td>\n      <td>None</td>\n      <td>The contaminant caused over $70,000 in damages...</td>\n      <td>the contaminant caused over 70,000 in damages ...</td>\n      <td>(the, contaminant, caused, over, 70,000, in, d...</td>\n      <td>[contaminant, cause, damage, home, car, coasta...</td>\n    </tr>\n    <tr>\n      <th>4</th>\n      <td>ABCNEW0020210204eh230002x</td>\n      <td>N</td>\n      <td>None</td>\n      <td>But there has been slow progress to fix the sc...</td>\n      <td>but there has been slow progress to fix the sc...</td>\n      <td>(but, there, has, been, slow, progress, to, fi...</td>\n      <td>[slow, progress, fix, scandal, expose, afterma...</td>\n    </tr>\n    <tr>\n      <th>...</th>\n      <td>...</td>\n      <td>...</td>\n      <td>...</td>\n      <td>...</td>\n      <td>...</td>\n      <td>...</td>\n      <td>...</td>\n    </tr>\n    <tr>\n      <th>2179</th>\n      <td>XNAP000020191201efbt00008</td>\n      <td>N</td>\n      <td>None</td>\n      <td>The move comes on the heels of an earlier laws...</td>\n      <td>the move comes on the heels of an earlier laws...</td>\n      <td>(the, move, comes, on, the, heels, of, an, ear...</td>\n      <td>[come, heel, early, lawsuit, file, march, cons...</td>\n    </tr>\n    <tr>\n      <th>2180</th>\n      <td>XNEWS00020191107efb700koh</td>\n      <td>N</td>\n      <td>None</td>\n      <td>The Paris court upheld charges of endangering...</td>\n      <td>the paris court upheld charges of endangering...</td>\n      <td>( , the, paris, court, upheld, charges, of, en...</td>\n      <td>[paris, court, uphold, charge, endanger, peopl...</td>\n    </tr>\n    <tr>\n      <th>2181</th>\n      <td>XWTH000020171114edbe0000j</td>\n      <td>N</td>\n      <td>None</td>\n      <td>The allegations involve the Lehigh Cement Co. ...</td>\n      <td>the allegations involve the lehigh cement co. ...</td>\n      <td>(the, allegations, involve, the, lehigh, cemen...</td>\n      <td>[allegation, involve, lehigh, cement, plant, h...</td>\n    </tr>\n    <tr>\n      <th>2182</th>\n      <td>YEDNO00020220919ei9j0008f</td>\n      <td>N</td>\n      <td>None</td>\n      <td>According to the Dutch company’s statement, a ...</td>\n      <td>according to the dutch companys statement, a t...</td>\n      <td>(according, to, the, dutch, companys, statemen...</td>\n      <td>[accord, dutch, companys, statement, text, app...</td>\n    </tr>\n    <tr>\n      <th>2183</th>\n      <td>YICAIG0020220317ei3h00039</td>\n      <td>N</td>\n      <td>None</td>\n      <td>The Fuzhou-based company said the situation wo...</td>\n      <td>the fuzhou-based company said the situation wo...</td>\n      <td>(the, fuzhou, -, based, company, said, the, si...</td>\n      <td>[fuzhou, base, company, say, situation, affect...</td>\n    </tr>\n  </tbody>\n</table>\n<p>1428 rows × 7 columns</p>\n</div>"
     },
     "execution_count": 26,
     "metadata": {},
     "output_type": "execute_result"
    }
   ],
   "source": [
    "import nltk\n",
    "import pandas as pd\n",
    "\n",
    "import seaborn as sns\n",
    "import spacy\n",
    "from spacy.matcher import Matcher\n",
    "\n",
    "import re\n",
    "from sklearn.linear_model import LogisticRegression\n",
    "from sklearn.model_selection import train_test_split, cross_val_score, cross_validate, cross_val_predict\n",
    "from sklearn.naive_bayes import GaussianNB, MultinomialNB\n",
    "from sklearn.decomposition import PCA\n",
    "from sklearn.metrics import classification_report\n",
    "\n",
    "\n",
    "from sklearn.metrics import accuracy_score, f1_score, confusion_matrix\n",
    "import numpy as np\n",
    "from sklearn.feature_extraction.text import CountVectorizer\n",
    "from sklearn.svm import SVC\n",
    "from sklearn.feature_extraction.text import TfidfVectorizer\n",
    "from sklearn.preprocessing import StandardScaler\n",
    "\n",
    "from sklearn.compose import ColumnTransformer\n",
    "from sklearn.preprocessing import StandardScaler\n",
    "from sklearn.svm import LinearSVC\n",
    "from sklearn.model_selection import train_test_split, GridSearchCV\n",
    "from sklearn.metrics import classification_report\n",
    "from sklearn.ensemble import RandomForestClassifier\n",
    "\n",
    "from sklearn.pipeline import Pipeline\n",
    "from xgboost import XGBClassifier\n",
    "from sklearn.linear_model import SGDClassifier\n",
    "\n",
    "from textblob import TextBlob\n",
    "from vaderSentiment.vaderSentiment import SentimentIntensityAnalyzer\n",
    "nlp = spacy.load(\"en_core_web_sm\")\n",
    "# read in the documents\n",
    "\n",
    "df = pd.read_excel('Articles.xlsx', sheet_name='Article list + txt').set_index('Article ID')\n",
    "\n",
    "df2 = pd.read_excel('Articles.xlsx', sheet_name='Article list').set_index('Article ID')\n",
    "\n",
    "# drop any nas\n",
    "df = df2.join(df, how='left').reset_index().drop_duplicates().dropna()\n",
    "\n",
    "# There are several articles that are duplicated but are marked as relevant in one row and not-relevant in another. Drop these\n",
    "\n",
    "df = df[~(df.duplicated(subset=['textbody','Article ID']))]\n",
    "\n",
    "# preprocess text to remove links and special characters\n",
    "def preprocess_text(df):\n",
    "\n",
    "    df['textbody_stripped'] = df['textbody'].replace('\\n|http\\S+|www+', ' ', regex=True)\n",
    "    df['textbody_stripped'] = df['textbody_stripped'].str.lower()\n",
    "    df['textbody_stripped'] = df['textbody_stripped'].replace('[^\\w\\s.,;/-]','', regex=True)\n",
    "\n",
    "    nlp = spacy.load(\"en_core_web_sm\")\n",
    "    df['NLP'] = df['textbody_stripped'].apply(lambda row: nlp(row))\n",
    "    df['key_lemmas'] = df['NLP'].apply(lambda row: [token.lemma_ for token in row\n",
    "                                                    if token.is_punct is False\n",
    "                                                    and token.is_stop is False\n",
    "                                                    and token.is_alpha is True\n",
    "                                                    ])\n",
    "\n",
    "    return df\n",
    "\n",
    "df = preprocess_text(df)\n",
    "df"
   ],
   "metadata": {
    "collapsed": false
   }
  },
  {
   "cell_type": "code",
   "execution_count": 27,
   "outputs": [
    {
     "name": "stdout",
     "output_type": "stream",
     "text": [
      "N    1196\n",
      "Y     232\n",
      "Name: Is this HRCR? (Y/N), dtype: int64\n"
     ]
    },
    {
     "data": {
      "text/plain": "<AxesSubplot: ylabel='Is this HRCR? (Y/N)'>"
     },
     "execution_count": 27,
     "metadata": {},
     "output_type": "execute_result"
    },
    {
     "data": {
      "text/plain": "<Figure size 640x480 with 1 Axes>",
      "image/png": "[encoded data removed]"
     },
     "metadata": {},
     "output_type": "display_data"
    }
   ],
   "source": [
    "# Inspect target balance\n",
    "\n",
    "data = df['Is this HRCR? (Y/N)'].value_counts()\n",
    "print(data)\n",
    "sns.barplot(data=data.reset_index() , x=data.index, y='Is this HRCR? (Y/N)')\n"
   ],
   "metadata": {
    "collapsed": false
   }
  },
  {
   "cell_type": "code",
   "execution_count": 28,
   "outputs": [
    {
     "data": {
      "text/plain": "<AxesSubplot: xlabel='lemma_count', ylabel='Density'>"
     },
     "execution_count": 28,
     "metadata": {},
     "output_type": "execute_result"
    },
    {
     "data": {
      "text/plain": "<Figure size 640x480 with 1 Axes>",
      "image/png": "[encoded data removed]"
     },
     "metadata": {},
     "output_type": "display_data"
    }
   ],
   "source": [
    "# visualize difference in length between targets\n",
    "\n",
    "df['lemma_count'] = df['key_lemmas'].apply(lambda row: len(row))\n",
    "sns.kdeplot(data=df, x='lemma_count', hue='Is this HRCR? (Y/N)', common_norm=False)\n"
   ],
   "metadata": {
    "collapsed": false
   }
  },
  {
   "cell_type": "code",
   "execution_count": 29,
   "outputs": [
    {
     "data": {
      "text/plain": "                     Article ID Is this HRCR? (Y/N) Sentiment  \\\n17    ACQIND0020220311ei3a0002x                   N      None   \n32    AFBZ000020170505e861000r4                   Y  Positive   \n269   AUTN000020191212efc900003                   Y   Neutral   \n310   BFL0000020220502ei520002t                   Y  Positive   \n346   BLMD000020210927e92e0096a                   Y  Positive   \n354   BLMD000020210928ebbi001p8                   Y  Positive   \n355   BLMD000020210928ebc200237                   Y  Positive   \n417   BUSVE00020220429ei4t0015p                   Y  Positive   \n512   CPR0000020140602ea61000a7                   Y  Negative   \n549   CWNS000020210511eh5b004y6                   N      None   \n557   CWNS000020211018ehai003mr                   Y  Positive   \n847   DT00000020171122edbm00026                   N      None   \n862   DT00000020210601eh6100013                   N      None   \n959   ENPNEW0020221024eiao00026                   Y  Positive   \n1117  GUONGA0020221104eiav0000t                   Y  Positive   \n1508  LOST000020220918ei9i00001                   N      None   \n1617  NQTAF00020211124ehbo000gr                   Y  Positive   \n1822  SLMO000020220903ei92000b7                   N      None   \n\n                                               textbody  \\\n17    Reuters - U.S. EPA proposing rules to cut emis...   \n32    A key objective is to enable Gabon to diversif...   \n269   By building one of the world's largest battery...   \n310   The GEA Way Forward Goals\\n\\n* Create 10,000 U...   \n346   The $300,000 donation will fund The Choice Foo...   \n354   This unprecedented agreement calls for joint i...   \n355   The United Nations Climate Change Conference i...   \n417   The German-multinational energy giant is a tru...   \n512   The 10-year plan, a pillar of the Progressive ...   \n549   \"Everyone knows it takes more labor hours to a...   \n557   The fund will be financed by 1.5% of the Velad...   \n847   \"As the UK's population continues to grow and ...   \n862   The investment will upgrade the plant and mach...   \n959   CONSOL is very excited about reaching this maj...   \n1117  “We are grateful for the support of the Federa...   \n1508  An Inside Climate News analysis of data collec...   \n1617  The completely overhauled site includes six fu...   \n1822  The case is expected to go before U.S. Distric...   \n\n                                      textbody_stripped  \\\n17    reuters - u.s. epa proposing rules to cut emis...   \n32    a key objective is to enable gabon to diversif...   \n269   by building one of the worlds largest battery ...   \n310   the gea way forward goals   create 10,000 u.s....   \n346   the 300,000 donation will fund the choice food...   \n354   this unprecedented agreement calls for joint i...   \n355   the united nations climate change conference i...   \n417   the german-multinational energy giant is a tru...   \n512   the 10-year plan, a pillar of the progressive ...   \n549   everyone knows it takes more labor hours to as...   \n557   the fund will be financed by 1.5 of the velade...   \n847   as the uks population continues to grow and we...   \n862   the investment will upgrade the plant and mach...   \n959   consol is very excited about reaching this maj...   \n1117  we are grateful for the support of the federal...   \n1508  an inside climate news analysis of data collec...   \n1617  the completely overhauled site includes six fu...   \n1822  the case is expected to go before u.s. distric...   \n\n                                                    NLP  \\\n17    (reuters, -, u.s, ., epa, proposing, rules, to...   \n32    (a, key, objective, is, to, enable, gabon, to,...   \n269   (by, building, one, of, the, worlds, largest, ...   \n310   (the, gea, way, forward, goals,   , create, 10...   \n346   (the, 300,000, donation, will, fund, the, choi...   \n354   (this, unprecedented, agreement, calls, for, j...   \n355   (the, united, nations, climate, change, confer...   \n417   (the, german, -, multinational, energy, giant,...   \n512   (the, 10, -, year, plan, ,, a, pillar, of, the...   \n549   (everyone, knows, it, takes, more, labor, hour...   \n557   (the, fund, will, be, financed, by, 1.5, of, t...   \n847   (as, the, uks, population, continues, to, grow...   \n862   (the, investment, will, upgrade, the, plant, a...   \n959   (consol, is, very, excited, about, reaching, t...   \n1117  (we, are, grateful, for, the, support, of, the...   \n1508  (an, inside, climate, news, analysis, of, data...   \n1617  (the, completely, overhauled, site, includes, ...   \n1822  (the, case, is, expected, to, go, before, u.s,...   \n\n                                             key_lemmas  lemma_count  \\\n17    [reuters, epa, proposing, rule, cut, emission,...         2878   \n32    [key, objective, enable, gabon, diversify, eco...         1538   \n269   [build, world, large, battery, plant, employ, ...          386   \n310   [gea, way, forward, goal, create, job, reach, ...          259   \n346   [donation, fund, choice, food, pantry, kroc, c...          381   \n354   [unprecedented, agreement, call, joint, interv...          548   \n355   [united, nations, climate, change, conference,...          725   \n417   [german, multinational, energy, giant, trust, ...          358   \n512   [year, plan, pillar, progressive, conservative...          384   \n549   [know, take, labor, hour, assemble, build, com...          125   \n557   [fund, finance, veladero, gold, mine, sale, es...          646   \n847   [uks, population, continue, grow, urbanised, n...          386   \n862   [investment, upgrade, plant, machinery, facili...          112   \n959   [consol, excited, reach, major, milestone, pro...          659   \n1117  [grateful, support, federal, government, port,...          491   \n1508  [inside, climate, news, analysis, datum, colle...         2182   \n1617  [completely, overhaul, site, include, fuel, pu...          258   \n1822  [case, expect, district, judge, casey, rodger,...          304   \n\n      related_phrases  token_number  related_phrases_prop  job_creator  \n17                  0          2878              0.000000            1  \n32                  9          1538              0.005852            1  \n269                 0           386              0.000000            1  \n310                 6           259              0.023166            1  \n346                 5           381              0.013123            1  \n354                 2           548              0.003650            2  \n355                 2           725              0.002759            1  \n417                 1           358              0.002793            1  \n512                 1           384              0.002604            1  \n549                 0           125              0.000000            1  \n557                 0           646              0.000000            1  \n847                 0           386              0.000000            1  \n862                 0           112              0.000000            1  \n959                 2           659              0.003035            1  \n1117                1           491              0.002037            1  \n1508               21          2182              0.009624            1  \n1617                0           258              0.000000            1  \n1822                1           304              0.003289            1  ",
      "text/html": "<div>\n<style scoped>\n    .dataframe tbody tr th:only-of-type {\n        vertical-align: middle;\n    }\n\n    .dataframe tbody tr th {\n        vertical-align: top;\n    }\n\n    .dataframe thead th {\n        text-align: right;\n    }\n</style>\n<table border=\"1\" class=\"dataframe\">\n  <thead>\n    <tr style=\"text-align: right;\">\n      <th></th>\n      <th>Article ID</th>\n      <th>Is this HRCR? (Y/N)</th>\n      <th>Sentiment</th>\n      <th>textbody</th>\n      <th>textbody_stripped</th>\n      <th>NLP</th>\n      <th>key_lemmas</th>\n      <th>lemma_count</th>\n      <th>related_phrases</th>\n      <th>token_number</th>\n      <th>related_phrases_prop</th>\n      <th>job_creator</th>\n    </tr>\n  </thead>\n  <tbody>\n    <tr>\n      <th>17</th>\n      <td>ACQIND0020220311ei3a0002x</td>\n      <td>N</td>\n      <td>None</td>\n      <td>Reuters - U.S. EPA proposing rules to cut emis...</td>\n      <td>reuters - u.s. epa proposing rules to cut emis...</td>\n      <td>(reuters, -, u.s, ., epa, proposing, rules, to...</td>\n      <td>[reuters, epa, proposing, rule, cut, emission,...</td>\n      <td>2878</td>\n      <td>0</td>\n      <td>2878</td>\n      <td>0.000000</td>\n      <td>1</td>\n    </tr>\n    <tr>\n      <th>32</th>\n      <td>AFBZ000020170505e861000r4</td>\n      <td>Y</td>\n      <td>Positive</td>\n      <td>A key objective is to enable Gabon to diversif...</td>\n      <td>a key objective is to enable gabon to diversif...</td>\n      <td>(a, key, objective, is, to, enable, gabon, to,...</td>\n      <td>[key, objective, enable, gabon, diversify, eco...</td>\n      <td>1538</td>\n      <td>9</td>\n      <td>1538</td>\n      <td>0.005852</td>\n      <td>1</td>\n    </tr>\n    <tr>\n      <th>269</th>\n      <td>AUTN000020191212efc900003</td>\n      <td>Y</td>\n      <td>Neutral</td>\n      <td>By building one of the world's largest battery...</td>\n      <td>by building one of the worlds largest battery ...</td>\n      <td>(by, building, one, of, the, worlds, largest, ...</td>\n      <td>[build, world, large, battery, plant, employ, ...</td>\n      <td>386</td>\n      <td>0</td>\n      <td>386</td>\n      <td>0.000000</td>\n      <td>1</td>\n    </tr>\n    <tr>\n      <th>310</th>\n      <td>BFL0000020220502ei520002t</td>\n      <td>Y</td>\n      <td>Positive</td>\n      <td>The GEA Way Forward Goals\\n\\n* Create 10,000 U...</td>\n      <td>the gea way forward goals   create 10,000 u.s....</td>\n      <td>(the, gea, way, forward, goals,   , create, 10...</td>\n      <td>[gea, way, forward, goal, create, job, reach, ...</td>\n      <td>259</td>\n      <td>6</td>\n      <td>259</td>\n      <td>0.023166</td>\n      <td>1</td>\n    </tr>\n    <tr>\n      <th>346</th>\n      <td>BLMD000020210927e92e0096a</td>\n      <td>Y</td>\n      <td>Positive</td>\n      <td>The $300,000 donation will fund The Choice Foo...</td>\n      <td>the 300,000 donation will fund the choice food...</td>\n      <td>(the, 300,000, donation, will, fund, the, choi...</td>\n      <td>[donation, fund, choice, food, pantry, kroc, c...</td>\n      <td>381</td>\n      <td>5</td>\n      <td>381</td>\n      <td>0.013123</td>\n      <td>1</td>\n    </tr>\n    <tr>\n      <th>354</th>\n      <td>BLMD000020210928ebbi001p8</td>\n      <td>Y</td>\n      <td>Positive</td>\n      <td>This unprecedented agreement calls for joint i...</td>\n      <td>this unprecedented agreement calls for joint i...</td>\n      <td>(this, unprecedented, agreement, calls, for, j...</td>\n      <td>[unprecedented, agreement, call, joint, interv...</td>\n      <td>548</td>\n      <td>2</td>\n      <td>548</td>\n      <td>0.003650</td>\n      <td>2</td>\n    </tr>\n    <tr>\n      <th>355</th>\n      <td>BLMD000020210928ebc200237</td>\n      <td>Y</td>\n      <td>Positive</td>\n      <td>The United Nations Climate Change Conference i...</td>\n      <td>the united nations climate change conference i...</td>\n      <td>(the, united, nations, climate, change, confer...</td>\n      <td>[united, nations, climate, change, conference,...</td>\n      <td>725</td>\n      <td>2</td>\n      <td>725</td>\n      <td>0.002759</td>\n      <td>1</td>\n    </tr>\n    <tr>\n      <th>417</th>\n      <td>BUSVE00020220429ei4t0015p</td>\n      <td>Y</td>\n      <td>Positive</td>\n      <td>The German-multinational energy giant is a tru...</td>\n      <td>the german-multinational energy giant is a tru...</td>\n      <td>(the, german, -, multinational, energy, giant,...</td>\n      <td>[german, multinational, energy, giant, trust, ...</td>\n      <td>358</td>\n      <td>1</td>\n      <td>358</td>\n      <td>0.002793</td>\n      <td>1</td>\n    </tr>\n    <tr>\n      <th>512</th>\n      <td>CPR0000020140602ea61000a7</td>\n      <td>Y</td>\n      <td>Negative</td>\n      <td>The 10-year plan, a pillar of the Progressive ...</td>\n      <td>the 10-year plan, a pillar of the progressive ...</td>\n      <td>(the, 10, -, year, plan, ,, a, pillar, of, the...</td>\n      <td>[year, plan, pillar, progressive, conservative...</td>\n      <td>384</td>\n      <td>1</td>\n      <td>384</td>\n      <td>0.002604</td>\n      <td>1</td>\n    </tr>\n    <tr>\n      <th>549</th>\n      <td>CWNS000020210511eh5b004y6</td>\n      <td>N</td>\n      <td>None</td>\n      <td>\"Everyone knows it takes more labor hours to a...</td>\n      <td>everyone knows it takes more labor hours to as...</td>\n      <td>(everyone, knows, it, takes, more, labor, hour...</td>\n      <td>[know, take, labor, hour, assemble, build, com...</td>\n      <td>125</td>\n      <td>0</td>\n      <td>125</td>\n      <td>0.000000</td>\n      <td>1</td>\n    </tr>\n    <tr>\n      <th>557</th>\n      <td>CWNS000020211018ehai003mr</td>\n      <td>Y</td>\n      <td>Positive</td>\n      <td>The fund will be financed by 1.5% of the Velad...</td>\n      <td>the fund will be financed by 1.5 of the velade...</td>\n      <td>(the, fund, will, be, financed, by, 1.5, of, t...</td>\n      <td>[fund, finance, veladero, gold, mine, sale, es...</td>\n      <td>646</td>\n      <td>0</td>\n      <td>646</td>\n      <td>0.000000</td>\n      <td>1</td>\n    </tr>\n    <tr>\n      <th>847</th>\n      <td>DT00000020171122edbm00026</td>\n      <td>N</td>\n      <td>None</td>\n      <td>\"As the UK's population continues to grow and ...</td>\n      <td>as the uks population continues to grow and we...</td>\n      <td>(as, the, uks, population, continues, to, grow...</td>\n      <td>[uks, population, continue, grow, urbanised, n...</td>\n      <td>386</td>\n      <td>0</td>\n      <td>386</td>\n      <td>0.000000</td>\n      <td>1</td>\n    </tr>\n    <tr>\n      <th>862</th>\n      <td>DT00000020210601eh6100013</td>\n      <td>N</td>\n      <td>None</td>\n      <td>The investment will upgrade the plant and mach...</td>\n      <td>the investment will upgrade the plant and mach...</td>\n      <td>(the, investment, will, upgrade, the, plant, a...</td>\n      <td>[investment, upgrade, plant, machinery, facili...</td>\n      <td>112</td>\n      <td>0</td>\n      <td>112</td>\n      <td>0.000000</td>\n      <td>1</td>\n    </tr>\n    <tr>\n      <th>959</th>\n      <td>ENPNEW0020221024eiao00026</td>\n      <td>Y</td>\n      <td>Positive</td>\n      <td>CONSOL is very excited about reaching this maj...</td>\n      <td>consol is very excited about reaching this maj...</td>\n      <td>(consol, is, very, excited, about, reaching, t...</td>\n      <td>[consol, excited, reach, major, milestone, pro...</td>\n      <td>659</td>\n      <td>2</td>\n      <td>659</td>\n      <td>0.003035</td>\n      <td>1</td>\n    </tr>\n    <tr>\n      <th>1117</th>\n      <td>GUONGA0020221104eiav0000t</td>\n      <td>Y</td>\n      <td>Positive</td>\n      <td>“We are grateful for the support of the Federa...</td>\n      <td>we are grateful for the support of the federal...</td>\n      <td>(we, are, grateful, for, the, support, of, the...</td>\n      <td>[grateful, support, federal, government, port,...</td>\n      <td>491</td>\n      <td>1</td>\n      <td>491</td>\n      <td>0.002037</td>\n      <td>1</td>\n    </tr>\n    <tr>\n      <th>1508</th>\n      <td>LOST000020220918ei9i00001</td>\n      <td>N</td>\n      <td>None</td>\n      <td>An Inside Climate News analysis of data collec...</td>\n      <td>an inside climate news analysis of data collec...</td>\n      <td>(an, inside, climate, news, analysis, of, data...</td>\n      <td>[inside, climate, news, analysis, datum, colle...</td>\n      <td>2182</td>\n      <td>21</td>\n      <td>2182</td>\n      <td>0.009624</td>\n      <td>1</td>\n    </tr>\n    <tr>\n      <th>1617</th>\n      <td>NQTAF00020211124ehbo000gr</td>\n      <td>Y</td>\n      <td>Positive</td>\n      <td>The completely overhauled site includes six fu...</td>\n      <td>the completely overhauled site includes six fu...</td>\n      <td>(the, completely, overhauled, site, includes, ...</td>\n      <td>[completely, overhaul, site, include, fuel, pu...</td>\n      <td>258</td>\n      <td>0</td>\n      <td>258</td>\n      <td>0.000000</td>\n      <td>1</td>\n    </tr>\n    <tr>\n      <th>1822</th>\n      <td>SLMO000020220903ei92000b7</td>\n      <td>N</td>\n      <td>None</td>\n      <td>The case is expected to go before U.S. Distric...</td>\n      <td>the case is expected to go before u.s. distric...</td>\n      <td>(the, case, is, expected, to, go, before, u.s,...</td>\n      <td>[case, expect, district, judge, casey, rodger,...</td>\n      <td>304</td>\n      <td>1</td>\n      <td>304</td>\n      <td>0.003289</td>\n      <td>1</td>\n    </tr>\n  </tbody>\n</table>\n</div>"
     },
     "execution_count": 29,
     "metadata": {},
     "output_type": "execute_result"
    }
   ],
   "source": [
    "# create corpus of related phrases that would not get picked up by tfidf\n",
    "\n",
    "related_phrases = [\n",
    "    'community impact',\n",
    "    'community health',\n",
    "    'impact assessment',\n",
    "    'community relation',\n",
    "    'community stakeholder',\n",
    "    'corporate responsibility',\n",
    "    'social responsibility',\n",
    "    'community input',\n",
    "    'community outreach',\n",
    "    'public comment',\n",
    "    'human right',\n",
    "    'local communit',\n",
    "    'local population',\n",
    "    'surrounding communit',\n",
    "    'with local business',\n",
    "    'with local farm',\n",
    "    'first nation',\n",
    "    'first-nation',\n",
    "    'indigenous',\n",
    "    'minority-owned',\n",
    "    'tribal',\n",
    "    'relief organi',\n",
    "    'create  jobs',\n",
    "    'social good',\n",
    "    'social welfare',\n",
    "    'social harm',\n",
    "    'social impact',\n",
    "    'social concern',\n",
    "    'philanthro',\n",
    "    'donat',\n",
    "    'crowdfund',\n",
    "    'volunteer',\n",
    "    'social change',\n",
    "    'raise awareness',\n",
    "    'nonprofit',\n",
    "    'non-profit',\n",
    "    'trade union',\n",
    "    'walkout',\n",
    "    'strike',\n",
    "    'affected workers',\n",
    "    'pay compensation',\n",
    "    'groundwater',\n",
    "    'water quality',\n",
    "    'safe water',\n",
    "    'environmental risk',\n",
    "\n",
    "]\n",
    "\n",
    "# count number of related phrases that appear in articles\n",
    "\n",
    "def count_list_items_in_string(lst, string):\n",
    "    count_dict = {}\n",
    "    for item in lst:\n",
    "        count_dict[item] = string.count(item)\n",
    "    return sum(count_dict.values())\n",
    "\n",
    "\n",
    "# create feature of related phrases count\n",
    "\n",
    "df['related_phrases'] = df.textbody_stripped.apply(lambda row: count_list_items_in_string(related_phrases, row))\n",
    "df['token_number'] = df.key_lemmas.apply(lambda row: len(row))\n",
    "df['related_phrases_prop'] = df.related_phrases / df.token_number\n",
    "\n",
    "\n",
    "# job creation seems to be important, look for examples of jobs being created in articles\n",
    "\n",
    "nlp = spacy.load(\"en_core_web_sm\")\n",
    "matcher = Matcher(nlp.vocab)\n",
    "\n",
    "pattern = [ {\"LEMMA\": \"create\"}, {\"POS\": \"ADJ\", \"OP\" : \"*\"}, {\"POS\": \"ADV\", \"OP\" : \"*\"}, {\"POS\": \"NUM\", \"OP\" : \"*\"}, {\"POS\": \"ADJ\", \"OP\" : \"*\"}, {\"TEXT\": \"jobs\"}]\n",
    "matcher.add(\"job_creator\", [pattern])\n",
    "\n",
    "df['job_creator'] = df['NLP'].apply(lambda row: len(matcher(row)))\n",
    "\n",
    "# inspect job_creator. it may not be as useful as we thought. We will leave this out of the final model\n",
    "df[df['job_creator'] > 0]"
   ],
   "metadata": {
    "collapsed": false
   }
  },
  {
   "cell_type": "code",
   "execution_count": 30,
   "outputs": [
    {
     "data": {
      "text/plain": "<AxesSubplot: xlabel='related_phrases', ylabel='Proportion'>"
     },
     "execution_count": 30,
     "metadata": {},
     "output_type": "execute_result"
    },
    {
     "data": {
      "text/plain": "<Figure size 640x480 with 1 Axes>",
      "image/png": "[encoded data removed]"
     },
     "metadata": {},
     "output_type": "display_data"
    }
   ],
   "source": [
    "# visualize how many related phrases are in an article in each target class\n",
    "\n",
    "sns.ecdfplot(data=df, x='related_phrases', hue='Is this HRCR? (Y/N)')"
   ],
   "metadata": {
    "collapsed": false
   }
  },
  {
   "cell_type": "code",
   "execution_count": 31,
   "outputs": [
    {
     "data": {
      "text/plain": "<AxesSubplot: xlabel='Is this HRCR? (Y/N)', ylabel='related_phrases'>"
     },
     "execution_count": 31,
     "metadata": {},
     "output_type": "execute_result"
    },
    {
     "data": {
      "text/plain": "<Figure size 640x480 with 1 Axes>",
      "image/png": "[encoded data removed]"
     },
     "metadata": {},
     "output_type": "display_data"
    }
   ],
   "source": [
    "# visualize related phrases by relevance\n",
    "\n",
    "sns.barplot(data=df, x='Is this HRCR? (Y/N)', y='related_phrases')"
   ],
   "metadata": {
    "collapsed": false
   }
  },
  {
   "cell_type": "code",
   "execution_count": 32,
   "outputs": [
    {
     "data": {
      "text/plain": "                     Article ID Is this HRCR? (Y/N) Sentiment  \\\n0     ABBNWS0020211116ehbg000jm                   Y  Positive   \n1     ABCGA00020220825ei8o0001j                   N      None   \n2     ABCNEW0020150216eb2g0000i                   Y  Negative   \n3     ABCNEW0020201218egci0002z                   N      None   \n4     ABCNEW0020210204eh230002x                   N      None   \n...                         ...                 ...       ...   \n2179  XNAP000020191201efbt00008                   N      None   \n2180  XNEWS00020191107efb700koh                   N      None   \n2181  XWTH000020171114edbe0000j                   N      None   \n2182  YEDNO00020220919ei9j0008f                   N      None   \n2183  YICAIG0020220317ei3h00039                   N      None   \n\n                                               textbody  \\\n0     \"The proposed legislation will establish a too...   \n1     \"Mr. Zatko's allegations of widespread securit...   \n2     The ground-breaking case has been in and out o...   \n3     The contaminant caused over $70,000 in damages...   \n4     But there has been slow progress to fix the sc...   \n...                                                 ...   \n2179  The move comes on the heels of an earlier laws...   \n2180   The Paris court upheld charges of endangering...   \n2181  The allegations involve the Lehigh Cement Co. ...   \n2182  According to the Dutch company’s statement, a ...   \n2183  The Fuzhou-based company said the situation wo...   \n\n                                      textbody_stripped  \\\n0     the proposed legislation will establish a tool...   \n1     mr. zatkos allegations of widespread security ...   \n2     the ground-breaking case has been in and out o...   \n3     the contaminant caused over 70,000 in damages ...   \n4     but there has been slow progress to fix the sc...   \n...                                                 ...   \n2179  the move comes on the heels of an earlier laws...   \n2180   the paris court upheld charges of endangering...   \n2181  the allegations involve the lehigh cement co. ...   \n2182  according to the dutch companys statement, a t...   \n2183  the fuzhou-based company said the situation wo...   \n\n                                                    NLP  \\\n0     (the, proposed, legislation, will, establish, ...   \n1     (mr, ., zatkos, allegations, of, widespread, s...   \n2     (the, ground, -, breaking, case, has, been, in...   \n3     (the, contaminant, caused, over, 70,000, in, d...   \n4     (but, there, has, been, slow, progress, to, fi...   \n...                                                 ...   \n2179  (the, move, comes, on, the, heels, of, an, ear...   \n2180  ( , the, paris, court, upheld, charges, of, en...   \n2181  (the, allegations, involve, the, lehigh, cemen...   \n2182  (according, to, the, dutch, companys, statemen...   \n2183  (the, fuzhou, -, based, company, said, the, si...   \n\n                                             key_lemmas  lemma_count  \\\n0     [propose, legislation, establish, tool, enable...          217   \n1     [mr, zatkos, allegation, widespread, security,...          170   \n2     [ground, break, case, court, year, appearance,...          577   \n3     [contaminant, cause, damage, home, car, coasta...          182   \n4     [slow, progress, fix, scandal, expose, afterma...         1068   \n...                                                 ...          ...   \n2179  [come, heel, early, lawsuit, file, march, cons...          247   \n2180  [paris, court, uphold, charge, endanger, peopl...           90   \n2181  [allegation, involve, lehigh, cement, plant, h...          248   \n2182  [accord, dutch, companys, statement, text, app...           71   \n2183  [fuzhou, base, company, say, situation, affect...          104   \n\n      related_phrases  token_number  related_phrases_prop  job_creator  \n0                   4           217              0.018433            0  \n1                   0           170              0.000000            0  \n2                   2           577              0.003466            0  \n3                   0           182              0.000000            0  \n4                   1          1068              0.000936            0  \n...               ...           ...                   ...          ...  \n2179                0           247              0.000000            0  \n2180                0            90              0.000000            0  \n2181                4           248              0.016129            0  \n2182                2            71              0.028169            0  \n2183                0           104              0.000000            0  \n\n[1428 rows x 12 columns]",
      "text/html": "<div>\n<style scoped>\n    .dataframe tbody tr th:only-of-type {\n        vertical-align: middle;\n    }\n\n    .dataframe tbody tr th {\n        vertical-align: top;\n    }\n\n    .dataframe thead th {\n        text-align: right;\n    }\n</style>\n<table border=\"1\" class=\"dataframe\">\n  <thead>\n    <tr style=\"text-align: right;\">\n      <th></th>\n      <th>Article ID</th>\n      <th>Is this HRCR? (Y/N)</th>\n      <th>Sentiment</th>\n      <th>textbody</th>\n      <th>textbody_stripped</th>\n      <th>NLP</th>\n      <th>key_lemmas</th>\n      <th>lemma_count</th>\n      <th>related_phrases</th>\n      <th>token_number</th>\n      <th>related_phrases_prop</th>\n      <th>job_creator</th>\n    </tr>\n  </thead>\n  <tbody>\n    <tr>\n      <th>0</th>\n      <td>ABBNWS0020211116ehbg000jm</td>\n      <td>Y</td>\n      <td>Positive</td>\n      <td>\"The proposed legislation will establish a too...</td>\n      <td>the proposed legislation will establish a tool...</td>\n      <td>(the, proposed, legislation, will, establish, ...</td>\n      <td>[propose, legislation, establish, tool, enable...</td>\n      <td>217</td>\n      <td>4</td>\n      <td>217</td>\n      <td>0.018433</td>\n      <td>0</td>\n    </tr>\n    <tr>\n      <th>1</th>\n      <td>ABCGA00020220825ei8o0001j</td>\n      <td>N</td>\n      <td>None</td>\n      <td>\"Mr. Zatko's allegations of widespread securit...</td>\n      <td>mr. zatkos allegations of widespread security ...</td>\n      <td>(mr, ., zatkos, allegations, of, widespread, s...</td>\n      <td>[mr, zatkos, allegation, widespread, security,...</td>\n      <td>170</td>\n      <td>0</td>\n      <td>170</td>\n      <td>0.000000</td>\n      <td>0</td>\n    </tr>\n    <tr>\n      <th>2</th>\n      <td>ABCNEW0020150216eb2g0000i</td>\n      <td>Y</td>\n      <td>Negative</td>\n      <td>The ground-breaking case has been in and out o...</td>\n      <td>the ground-breaking case has been in and out o...</td>\n      <td>(the, ground, -, breaking, case, has, been, in...</td>\n      <td>[ground, break, case, court, year, appearance,...</td>\n      <td>577</td>\n      <td>2</td>\n      <td>577</td>\n      <td>0.003466</td>\n      <td>0</td>\n    </tr>\n    <tr>\n      <th>3</th>\n      <td>ABCNEW0020201218egci0002z</td>\n      <td>N</td>\n      <td>None</td>\n      <td>The contaminant caused over $70,000 in damages...</td>\n      <td>the contaminant caused over 70,000 in damages ...</td>\n      <td>(the, contaminant, caused, over, 70,000, in, d...</td>\n      <td>[contaminant, cause, damage, home, car, coasta...</td>\n      <td>182</td>\n      <td>0</td>\n      <td>182</td>\n      <td>0.000000</td>\n      <td>0</td>\n    </tr>\n    <tr>\n      <th>4</th>\n      <td>ABCNEW0020210204eh230002x</td>\n      <td>N</td>\n      <td>None</td>\n      <td>But there has been slow progress to fix the sc...</td>\n      <td>but there has been slow progress to fix the sc...</td>\n      <td>(but, there, has, been, slow, progress, to, fi...</td>\n      <td>[slow, progress, fix, scandal, expose, afterma...</td>\n      <td>1068</td>\n      <td>1</td>\n      <td>1068</td>\n      <td>0.000936</td>\n      <td>0</td>\n    </tr>\n    <tr>\n      <th>...</th>\n      <td>...</td>\n      <td>...</td>\n      <td>...</td>\n      <td>...</td>\n      <td>...</td>\n      <td>...</td>\n      <td>...</td>\n      <td>...</td>\n      <td>...</td>\n      <td>...</td>\n      <td>...</td>\n      <td>...</td>\n    </tr>\n    <tr>\n      <th>2179</th>\n      <td>XNAP000020191201efbt00008</td>\n      <td>N</td>\n      <td>None</td>\n      <td>The move comes on the heels of an earlier laws...</td>\n      <td>the move comes on the heels of an earlier laws...</td>\n      <td>(the, move, comes, on, the, heels, of, an, ear...</td>\n      <td>[come, heel, early, lawsuit, file, march, cons...</td>\n      <td>247</td>\n      <td>0</td>\n      <td>247</td>\n      <td>0.000000</td>\n      <td>0</td>\n    </tr>\n    <tr>\n      <th>2180</th>\n      <td>XNEWS00020191107efb700koh</td>\n      <td>N</td>\n      <td>None</td>\n      <td>The Paris court upheld charges of endangering...</td>\n      <td>the paris court upheld charges of endangering...</td>\n      <td>( , the, paris, court, upheld, charges, of, en...</td>\n      <td>[paris, court, uphold, charge, endanger, peopl...</td>\n      <td>90</td>\n      <td>0</td>\n      <td>90</td>\n      <td>0.000000</td>\n      <td>0</td>\n    </tr>\n    <tr>\n      <th>2181</th>\n      <td>XWTH000020171114edbe0000j</td>\n      <td>N</td>\n      <td>None</td>\n      <td>The allegations involve the Lehigh Cement Co. ...</td>\n      <td>the allegations involve the lehigh cement co. ...</td>\n      <td>(the, allegations, involve, the, lehigh, cemen...</td>\n      <td>[allegation, involve, lehigh, cement, plant, h...</td>\n      <td>248</td>\n      <td>4</td>\n      <td>248</td>\n      <td>0.016129</td>\n      <td>0</td>\n    </tr>\n    <tr>\n      <th>2182</th>\n      <td>YEDNO00020220919ei9j0008f</td>\n      <td>N</td>\n      <td>None</td>\n      <td>According to the Dutch company’s statement, a ...</td>\n      <td>according to the dutch companys statement, a t...</td>\n      <td>(according, to, the, dutch, companys, statemen...</td>\n      <td>[accord, dutch, companys, statement, text, app...</td>\n      <td>71</td>\n      <td>2</td>\n      <td>71</td>\n      <td>0.028169</td>\n      <td>0</td>\n    </tr>\n    <tr>\n      <th>2183</th>\n      <td>YICAIG0020220317ei3h00039</td>\n      <td>N</td>\n      <td>None</td>\n      <td>The Fuzhou-based company said the situation wo...</td>\n      <td>the fuzhou-based company said the situation wo...</td>\n      <td>(the, fuzhou, -, based, company, said, the, si...</td>\n      <td>[fuzhou, base, company, say, situation, affect...</td>\n      <td>104</td>\n      <td>0</td>\n      <td>104</td>\n      <td>0.000000</td>\n      <td>0</td>\n    </tr>\n  </tbody>\n</table>\n<p>1428 rows × 12 columns</p>\n</div>"
     },
     "execution_count": 32,
     "metadata": {},
     "output_type": "execute_result"
    }
   ],
   "source": [
    "df"
   ],
   "metadata": {
    "collapsed": false
   }
  },
  {
   "cell_type": "code",
   "execution_count": 33,
   "outputs": [],
   "source": [
    "\n",
    "# transform the data into a format that can be fed into model\n",
    "# leave out features that do not improve model performance\n",
    "\n",
    "def transform_data(data, n_features, target, related=False):\n",
    "    '''\n",
    "    change key lemma tokens into one string to be fed into tfidf.\n",
    "    combine related phrases and tfidf matrix into one featureset\n",
    "    set target variable\n",
    "\n",
    "    split data into train and test sets\n",
    "    use ColumnTransformer to scale related phrases column while leaving tfidf alone\n",
    "    fit transformer to training set, and apply it to training set and test set\n",
    "\n",
    "    :param data:\n",
    "    :param n_features:\n",
    "    :param target:\n",
    "    :param related:\n",
    "    :return: training and testing features and targets\n",
    "    '''\n",
    "\n",
    "    data['bag_of_words'] = data.key_lemmas.apply(lambda row: ' '.join(row))\n",
    "    bow = np.array(data.loc[:,'bag_of_words'].values)\n",
    "    tfidf = TfidfVectorizer(lowercase=False, max_features=n_features)\n",
    "    X_bow = tfidf.fit_transform(bow).toarray()\n",
    "    if related:\n",
    "\n",
    "        X_related = data[['related_phrases']].values\n",
    "        X = np.hstack((X_bow, X_related))\n",
    "\n",
    "    else:\n",
    "        X = X_bow\n",
    "\n",
    "    data['target'] = np.where(data['Is this HRCR? (Y/N)'] == 'Y', 1, 0)\n",
    "    y = data[target].values\n",
    "\n",
    "    X_train, X_test, y_train, y_test = train_test_split(X, y, train_size = 0.7, shuffle = True, random_state=100, stratify=y)\n",
    "    ct = ColumnTransformer([('scaler', StandardScaler(), [-1])], remainder='passthrough')\n",
    "\n",
    "    X_train = ct.fit_transform(X_train)\n",
    "    X_test = ct.transform(X_test)\n",
    "\n",
    "    return X_train, X_test, y_train, y_test\n",
    "\n"
   ],
   "metadata": {
    "collapsed": false
   }
  },
  {
   "cell_type": "code",
   "execution_count": 34,
   "outputs": [
    {
     "data": {
      "text/plain": "Article ID              0\nIs this HRCR? (Y/N)     0\nSentiment               0\ntextbody                0\ntextbody_stripped       0\nNLP                     0\nkey_lemmas              0\nlemma_count             0\nrelated_phrases         0\ntoken_number            0\nrelated_phrases_prop    0\njob_creator             0\ndtype: int64"
     },
     "execution_count": 34,
     "metadata": {},
     "output_type": "execute_result"
    }
   ],
   "source": [
    "# ensure again that there is no missing data\n",
    "\n",
    "df.isna().sum()"
   ],
   "metadata": {
    "collapsed": false
   }
  },
  {
   "cell_type": "code",
   "execution_count": 35,
   "outputs": [],
   "source": [
    "\n",
    "# get training and testing features using above function\n",
    "X_train, X_test, y_train, y_test = transform_data(df, 500, 'target', related=True)\n",
    "\n",
    "# define a dictionary to place model metrics into\n",
    "\n",
    "algo_df = {'name':[],\n",
    "           'balanced_accuracy':[],\n",
    "           'f1_macro':[],\n",
    "           'recall':[],\n",
    "           'precision':[],\n",
    "           'roc_auc':[]\n",
    "}\n",
    "\n",
    "# create a function to compare different base algorithms and their respective metrics with\n",
    "def compare_algos(name, clf):\n",
    "\n",
    "    cv = cross_validate(clf, X_train, y_train, cv=5, scoring=['balanced_accuracy','f1_macro','recall','precision','roc_auc'])\n",
    "    algo_df['name'].append(name)\n",
    "    algo_df['roc_auc'].append(cv['test_roc_auc'].mean())\n",
    "    algo_df['balanced_accuracy'].append(cv['test_balanced_accuracy'].mean())\n",
    "    algo_df['f1_macro'].append(cv['test_f1_macro'].mean())\n",
    "    algo_df['recall'].append(cv['test_recall'].mean())\n",
    "    algo_df['precision'].append(cv['test_precision'].mean())\n",
    "\n",
    "# run function\n",
    "compare_algos('Random Forest', RandomForestClassifier(class_weight='balanced', max_features='sqrt'))\n",
    "compare_algos('Naive Bayes', GaussianNB())\n",
    "compare_algos('SVM', LogisticRegression(class_weight='balanced'))\n",
    "compare_algos('Logistic Regression', SVC(class_weight='balanced'))\n",
    "compare_algos('Linear SVC', LinearSVC(class_weight='balanced'))\n",
    "\n"
   ],
   "metadata": {
    "collapsed": false
   }
  },
  {
   "cell_type": "code",
   "execution_count": 36,
   "outputs": [
    {
     "data": {
      "text/plain": "                  name  balanced_accuracy  f1_macro    recall  precision  \\\n3  Logistic Regression           0.873313  0.847926  0.815909   0.695763   \n2                  SVM           0.870601  0.847718  0.809280   0.698799   \n4           Linear SVC           0.805568  0.795250  0.686364   0.649584   \n1          Naive Bayes           0.788536  0.742630  0.716856   0.499162   \n0        Random Forest           0.617755  0.649324  0.241477   0.893929   \n\n    roc_auc  \n3  0.924509  \n2  0.930808  \n4  0.905226  \n1  0.849739  \n0  0.917470  ",
      "text/html": "<div>\n<style scoped>\n    .dataframe tbody tr th:only-of-type {\n        vertical-align: middle;\n    }\n\n    .dataframe tbody tr th {\n        vertical-align: top;\n    }\n\n    .dataframe thead th {\n        text-align: right;\n    }\n</style>\n<table border=\"1\" class=\"dataframe\">\n  <thead>\n    <tr style=\"text-align: right;\">\n      <th></th>\n      <th>name</th>\n      <th>balanced_accuracy</th>\n      <th>f1_macro</th>\n      <th>recall</th>\n      <th>precision</th>\n      <th>roc_auc</th>\n    </tr>\n  </thead>\n  <tbody>\n    <tr>\n      <th>3</th>\n      <td>Logistic Regression</td>\n      <td>0.873313</td>\n      <td>0.847926</td>\n      <td>0.815909</td>\n      <td>0.695763</td>\n      <td>0.924509</td>\n    </tr>\n    <tr>\n      <th>2</th>\n      <td>SVM</td>\n      <td>0.870601</td>\n      <td>0.847718</td>\n      <td>0.809280</td>\n      <td>0.698799</td>\n      <td>0.930808</td>\n    </tr>\n    <tr>\n      <th>4</th>\n      <td>Linear SVC</td>\n      <td>0.805568</td>\n      <td>0.795250</td>\n      <td>0.686364</td>\n      <td>0.649584</td>\n      <td>0.905226</td>\n    </tr>\n    <tr>\n      <th>1</th>\n      <td>Naive Bayes</td>\n      <td>0.788536</td>\n      <td>0.742630</td>\n      <td>0.716856</td>\n      <td>0.499162</td>\n      <td>0.849739</td>\n    </tr>\n    <tr>\n      <th>0</th>\n      <td>Random Forest</td>\n      <td>0.617755</td>\n      <td>0.649324</td>\n      <td>0.241477</td>\n      <td>0.893929</td>\n      <td>0.917470</td>\n    </tr>\n  </tbody>\n</table>\n</div>"
     },
     "execution_count": 36,
     "metadata": {},
     "output_type": "execute_result"
    }
   ],
   "source": [
    "# place the model results in a dataframe and compare\n",
    "\n",
    "algo_df = pd.DataFrame(algo_df)\n",
    "algo_df.sort_values('balanced_accuracy', ascending=False)"
   ],
   "metadata": {
    "collapsed": false
   }
  },
  {
   "cell_type": "code",
   "execution_count": 37,
   "outputs": [
    {
     "name": "stderr",
     "output_type": "stream",
     "text": [
      "/Users/bradyallardice/opt/miniconda3/envs/torch-nightly/lib/python3.8/site-packages/sklearn/linear_model/_logistic.py:1165: UserWarning: l1_ratio parameter is only used when penalty is 'elasticnet'. Got (penalty=l2)\n",
      "  warnings.warn(\n",
      "/Users/bradyallardice/opt/miniconda3/envs/torch-nightly/lib/python3.8/site-packages/sklearn/linear_model/_logistic.py:1165: UserWarning: l1_ratio parameter is only used when penalty is 'elasticnet'. Got (penalty=l2)\n",
      "  warnings.warn(\n",
      "/Users/bradyallardice/opt/miniconda3/envs/torch-nightly/lib/python3.8/site-packages/sklearn/linear_model/_logistic.py:1165: UserWarning: l1_ratio parameter is only used when penalty is 'elasticnet'. Got (penalty=l2)\n",
      "  warnings.warn(\n",
      "/Users/bradyallardice/opt/miniconda3/envs/torch-nightly/lib/python3.8/site-packages/sklearn/linear_model/_logistic.py:1165: UserWarning: l1_ratio parameter is only used when penalty is 'elasticnet'. Got (penalty=l2)\n",
      "  warnings.warn(\n",
      "/Users/bradyallardice/opt/miniconda3/envs/torch-nightly/lib/python3.8/site-packages/sklearn/linear_model/_logistic.py:1165: UserWarning: l1_ratio parameter is only used when penalty is 'elasticnet'. Got (penalty=l2)\n",
      "  warnings.warn(\n",
      "/Users/bradyallardice/opt/miniconda3/envs/torch-nightly/lib/python3.8/site-packages/sklearn/linear_model/_logistic.py:1165: UserWarning: l1_ratio parameter is only used when penalty is 'elasticnet'. Got (penalty=l1)\n",
      "  warnings.warn(\n",
      "/Users/bradyallardice/opt/miniconda3/envs/torch-nightly/lib/python3.8/site-packages/sklearn/linear_model/_logistic.py:1165: UserWarning: l1_ratio parameter is only used when penalty is 'elasticnet'. Got (penalty=l1)\n",
      "  warnings.warn(\n",
      "/Users/bradyallardice/opt/miniconda3/envs/torch-nightly/lib/python3.8/site-packages/sklearn/linear_model/_logistic.py:1165: UserWarning: l1_ratio parameter is only used when penalty is 'elasticnet'. Got (penalty=l1)\n",
      "  warnings.warn(\n",
      "/Users/bradyallardice/opt/miniconda3/envs/torch-nightly/lib/python3.8/site-packages/sklearn/linear_model/_logistic.py:1165: UserWarning: l1_ratio parameter is only used when penalty is 'elasticnet'. Got (penalty=l1)\n",
      "  warnings.warn(\n",
      "/Users/bradyallardice/opt/miniconda3/envs/torch-nightly/lib/python3.8/site-packages/sklearn/linear_model/_logistic.py:1165: UserWarning: l1_ratio parameter is only used when penalty is 'elasticnet'. Got (penalty=l1)\n",
      "  warnings.warn(\n",
      "/Users/bradyallardice/opt/miniconda3/envs/torch-nightly/lib/python3.8/site-packages/sklearn/linear_model/_logistic.py:1165: UserWarning: l1_ratio parameter is only used when penalty is 'elasticnet'. Got (penalty=l2)\n",
      "  warnings.warn(\n",
      "/Users/bradyallardice/opt/miniconda3/envs/torch-nightly/lib/python3.8/site-packages/sklearn/linear_model/_logistic.py:1165: UserWarning: l1_ratio parameter is only used when penalty is 'elasticnet'. Got (penalty=l2)\n",
      "  warnings.warn(\n",
      "/Users/bradyallardice/opt/miniconda3/envs/torch-nightly/lib/python3.8/site-packages/sklearn/linear_model/_logistic.py:1165: UserWarning: l1_ratio parameter is only used when penalty is 'elasticnet'. Got (penalty=l2)\n",
      "  warnings.warn(\n",
      "/Users/bradyallardice/opt/miniconda3/envs/torch-nightly/lib/python3.8/site-packages/sklearn/linear_model/_logistic.py:1165: UserWarning: l1_ratio parameter is only used when penalty is 'elasticnet'. Got (penalty=l2)\n",
      "  warnings.warn(\n",
      "/Users/bradyallardice/opt/miniconda3/envs/torch-nightly/lib/python3.8/site-packages/sklearn/linear_model/_logistic.py:1165: UserWarning: l1_ratio parameter is only used when penalty is 'elasticnet'. Got (penalty=l2)\n",
      "  warnings.warn(\n",
      "/Users/bradyallardice/opt/miniconda3/envs/torch-nightly/lib/python3.8/site-packages/sklearn/linear_model/_logistic.py:1165: UserWarning: l1_ratio parameter is only used when penalty is 'elasticnet'. Got (penalty=l1)\n",
      "  warnings.warn(\n",
      "/Users/bradyallardice/opt/miniconda3/envs/torch-nightly/lib/python3.8/site-packages/sklearn/linear_model/_logistic.py:1165: UserWarning: l1_ratio parameter is only used when penalty is 'elasticnet'. Got (penalty=l1)\n",
      "  warnings.warn(\n",
      "/Users/bradyallardice/opt/miniconda3/envs/torch-nightly/lib/python3.8/site-packages/sklearn/linear_model/_logistic.py:1165: UserWarning: l1_ratio parameter is only used when penalty is 'elasticnet'. Got (penalty=l1)\n",
      "  warnings.warn(\n",
      "/Users/bradyallardice/opt/miniconda3/envs/torch-nightly/lib/python3.8/site-packages/sklearn/linear_model/_logistic.py:1165: UserWarning: l1_ratio parameter is only used when penalty is 'elasticnet'. Got (penalty=l1)\n",
      "  warnings.warn(\n",
      "/Users/bradyallardice/opt/miniconda3/envs/torch-nightly/lib/python3.8/site-packages/sklearn/linear_model/_logistic.py:1165: UserWarning: l1_ratio parameter is only used when penalty is 'elasticnet'. Got (penalty=l1)\n",
      "  warnings.warn(\n",
      "/Users/bradyallardice/opt/miniconda3/envs/torch-nightly/lib/python3.8/site-packages/sklearn/linear_model/_logistic.py:1165: UserWarning: l1_ratio parameter is only used when penalty is 'elasticnet'. Got (penalty=l2)\n",
      "  warnings.warn(\n",
      "/Users/bradyallardice/opt/miniconda3/envs/torch-nightly/lib/python3.8/site-packages/sklearn/linear_model/_logistic.py:1165: UserWarning: l1_ratio parameter is only used when penalty is 'elasticnet'. Got (penalty=l2)\n",
      "  warnings.warn(\n",
      "/Users/bradyallardice/opt/miniconda3/envs/torch-nightly/lib/python3.8/site-packages/sklearn/linear_model/_logistic.py:1165: UserWarning: l1_ratio parameter is only used when penalty is 'elasticnet'. Got (penalty=l2)\n",
      "  warnings.warn(\n",
      "/Users/bradyallardice/opt/miniconda3/envs/torch-nightly/lib/python3.8/site-packages/sklearn/linear_model/_logistic.py:1165: UserWarning: l1_ratio parameter is only used when penalty is 'elasticnet'. Got (penalty=l2)\n",
      "  warnings.warn(\n",
      "/Users/bradyallardice/opt/miniconda3/envs/torch-nightly/lib/python3.8/site-packages/sklearn/linear_model/_logistic.py:1165: UserWarning: l1_ratio parameter is only used when penalty is 'elasticnet'. Got (penalty=l2)\n",
      "  warnings.warn(\n",
      "/Users/bradyallardice/opt/miniconda3/envs/torch-nightly/lib/python3.8/site-packages/sklearn/linear_model/_logistic.py:1165: UserWarning: l1_ratio parameter is only used when penalty is 'elasticnet'. Got (penalty=l1)\n",
      "  warnings.warn(\n",
      "/Users/bradyallardice/opt/miniconda3/envs/torch-nightly/lib/python3.8/site-packages/sklearn/linear_model/_logistic.py:1165: UserWarning: l1_ratio parameter is only used when penalty is 'elasticnet'. Got (penalty=l1)\n",
      "  warnings.warn(\n",
      "/Users/bradyallardice/opt/miniconda3/envs/torch-nightly/lib/python3.8/site-packages/sklearn/linear_model/_logistic.py:1165: UserWarning: l1_ratio parameter is only used when penalty is 'elasticnet'. Got (penalty=l1)\n",
      "  warnings.warn(\n",
      "/Users/bradyallardice/opt/miniconda3/envs/torch-nightly/lib/python3.8/site-packages/sklearn/linear_model/_logistic.py:1165: UserWarning: l1_ratio parameter is only used when penalty is 'elasticnet'. Got (penalty=l1)\n",
      "  warnings.warn(\n",
      "/Users/bradyallardice/opt/miniconda3/envs/torch-nightly/lib/python3.8/site-packages/sklearn/linear_model/_logistic.py:1165: UserWarning: l1_ratio parameter is only used when penalty is 'elasticnet'. Got (penalty=l1)\n",
      "  warnings.warn(\n",
      "/Users/bradyallardice/opt/miniconda3/envs/torch-nightly/lib/python3.8/site-packages/sklearn/linear_model/_logistic.py:1165: UserWarning: l1_ratio parameter is only used when penalty is 'elasticnet'. Got (penalty=l2)\n",
      "  warnings.warn(\n",
      "/Users/bradyallardice/opt/miniconda3/envs/torch-nightly/lib/python3.8/site-packages/sklearn/linear_model/_logistic.py:1165: UserWarning: l1_ratio parameter is only used when penalty is 'elasticnet'. Got (penalty=l2)\n",
      "  warnings.warn(\n",
      "/Users/bradyallardice/opt/miniconda3/envs/torch-nightly/lib/python3.8/site-packages/sklearn/linear_model/_logistic.py:1165: UserWarning: l1_ratio parameter is only used when penalty is 'elasticnet'. Got (penalty=l2)\n",
      "  warnings.warn(\n",
      "/Users/bradyallardice/opt/miniconda3/envs/torch-nightly/lib/python3.8/site-packages/sklearn/linear_model/_logistic.py:1165: UserWarning: l1_ratio parameter is only used when penalty is 'elasticnet'. Got (penalty=l2)\n",
      "  warnings.warn(\n",
      "/Users/bradyallardice/opt/miniconda3/envs/torch-nightly/lib/python3.8/site-packages/sklearn/linear_model/_logistic.py:1165: UserWarning: l1_ratio parameter is only used when penalty is 'elasticnet'. Got (penalty=l2)\n",
      "  warnings.warn(\n",
      "/Users/bradyallardice/opt/miniconda3/envs/torch-nightly/lib/python3.8/site-packages/sklearn/linear_model/_logistic.py:1165: UserWarning: l1_ratio parameter is only used when penalty is 'elasticnet'. Got (penalty=l1)\n",
      "  warnings.warn(\n",
      "/Users/bradyallardice/opt/miniconda3/envs/torch-nightly/lib/python3.8/site-packages/sklearn/linear_model/_logistic.py:1165: UserWarning: l1_ratio parameter is only used when penalty is 'elasticnet'. Got (penalty=l1)\n",
      "  warnings.warn(\n",
      "/Users/bradyallardice/opt/miniconda3/envs/torch-nightly/lib/python3.8/site-packages/sklearn/linear_model/_logistic.py:1165: UserWarning: l1_ratio parameter is only used when penalty is 'elasticnet'. Got (penalty=l1)\n",
      "  warnings.warn(\n",
      "/Users/bradyallardice/opt/miniconda3/envs/torch-nightly/lib/python3.8/site-packages/sklearn/linear_model/_logistic.py:1165: UserWarning: l1_ratio parameter is only used when penalty is 'elasticnet'. Got (penalty=l1)\n",
      "  warnings.warn(\n",
      "/Users/bradyallardice/opt/miniconda3/envs/torch-nightly/lib/python3.8/site-packages/sklearn/linear_model/_logistic.py:1165: UserWarning: l1_ratio parameter is only used when penalty is 'elasticnet'. Got (penalty=l1)\n",
      "  warnings.warn(\n",
      "/Users/bradyallardice/opt/miniconda3/envs/torch-nightly/lib/python3.8/site-packages/sklearn/linear_model/_logistic.py:1165: UserWarning: l1_ratio parameter is only used when penalty is 'elasticnet'. Got (penalty=l2)\n",
      "  warnings.warn(\n",
      "/Users/bradyallardice/opt/miniconda3/envs/torch-nightly/lib/python3.8/site-packages/sklearn/linear_model/_logistic.py:1165: UserWarning: l1_ratio parameter is only used when penalty is 'elasticnet'. Got (penalty=l2)\n",
      "  warnings.warn(\n",
      "/Users/bradyallardice/opt/miniconda3/envs/torch-nightly/lib/python3.8/site-packages/sklearn/linear_model/_logistic.py:1165: UserWarning: l1_ratio parameter is only used when penalty is 'elasticnet'. Got (penalty=l2)\n",
      "  warnings.warn(\n",
      "/Users/bradyallardice/opt/miniconda3/envs/torch-nightly/lib/python3.8/site-packages/sklearn/linear_model/_logistic.py:1165: UserWarning: l1_ratio parameter is only used when penalty is 'elasticnet'. Got (penalty=l2)\n",
      "  warnings.warn(\n",
      "/Users/bradyallardice/opt/miniconda3/envs/torch-nightly/lib/python3.8/site-packages/sklearn/linear_model/_logistic.py:1165: UserWarning: l1_ratio parameter is only used when penalty is 'elasticnet'. Got (penalty=l2)\n",
      "  warnings.warn(\n",
      "/Users/bradyallardice/opt/miniconda3/envs/torch-nightly/lib/python3.8/site-packages/sklearn/linear_model/_logistic.py:1165: UserWarning: l1_ratio parameter is only used when penalty is 'elasticnet'. Got (penalty=l1)\n",
      "  warnings.warn(\n",
      "/Users/bradyallardice/opt/miniconda3/envs/torch-nightly/lib/python3.8/site-packages/sklearn/linear_model/_logistic.py:1165: UserWarning: l1_ratio parameter is only used when penalty is 'elasticnet'. Got (penalty=l1)\n",
      "  warnings.warn(\n",
      "/Users/bradyallardice/opt/miniconda3/envs/torch-nightly/lib/python3.8/site-packages/sklearn/linear_model/_logistic.py:1165: UserWarning: l1_ratio parameter is only used when penalty is 'elasticnet'. Got (penalty=l1)\n",
      "  warnings.warn(\n",
      "/Users/bradyallardice/opt/miniconda3/envs/torch-nightly/lib/python3.8/site-packages/sklearn/linear_model/_logistic.py:1165: UserWarning: l1_ratio parameter is only used when penalty is 'elasticnet'. Got (penalty=l1)\n",
      "  warnings.warn(\n",
      "/Users/bradyallardice/opt/miniconda3/envs/torch-nightly/lib/python3.8/site-packages/sklearn/linear_model/_logistic.py:1165: UserWarning: l1_ratio parameter is only used when penalty is 'elasticnet'. Got (penalty=l1)\n",
      "  warnings.warn(\n",
      "/Users/bradyallardice/opt/miniconda3/envs/torch-nightly/lib/python3.8/site-packages/sklearn/linear_model/_logistic.py:1165: UserWarning: l1_ratio parameter is only used when penalty is 'elasticnet'. Got (penalty=l2)\n",
      "  warnings.warn(\n",
      "/Users/bradyallardice/opt/miniconda3/envs/torch-nightly/lib/python3.8/site-packages/sklearn/linear_model/_logistic.py:1165: UserWarning: l1_ratio parameter is only used when penalty is 'elasticnet'. Got (penalty=l2)\n",
      "  warnings.warn(\n",
      "/Users/bradyallardice/opt/miniconda3/envs/torch-nightly/lib/python3.8/site-packages/sklearn/linear_model/_logistic.py:1165: UserWarning: l1_ratio parameter is only used when penalty is 'elasticnet'. Got (penalty=l2)\n",
      "  warnings.warn(\n",
      "/Users/bradyallardice/opt/miniconda3/envs/torch-nightly/lib/python3.8/site-packages/sklearn/linear_model/_logistic.py:1165: UserWarning: l1_ratio parameter is only used when penalty is 'elasticnet'. Got (penalty=l2)\n",
      "  warnings.warn(\n",
      "/Users/bradyallardice/opt/miniconda3/envs/torch-nightly/lib/python3.8/site-packages/sklearn/linear_model/_logistic.py:1165: UserWarning: l1_ratio parameter is only used when penalty is 'elasticnet'. Got (penalty=l2)\n",
      "  warnings.warn(\n",
      "/Users/bradyallardice/opt/miniconda3/envs/torch-nightly/lib/python3.8/site-packages/sklearn/linear_model/_logistic.py:1165: UserWarning: l1_ratio parameter is only used when penalty is 'elasticnet'. Got (penalty=l1)\n",
      "  warnings.warn(\n",
      "/Users/bradyallardice/opt/miniconda3/envs/torch-nightly/lib/python3.8/site-packages/sklearn/linear_model/_logistic.py:1165: UserWarning: l1_ratio parameter is only used when penalty is 'elasticnet'. Got (penalty=l1)\n",
      "  warnings.warn(\n",
      "/Users/bradyallardice/opt/miniconda3/envs/torch-nightly/lib/python3.8/site-packages/sklearn/linear_model/_logistic.py:1165: UserWarning: l1_ratio parameter is only used when penalty is 'elasticnet'. Got (penalty=l1)\n",
      "  warnings.warn(\n",
      "/Users/bradyallardice/opt/miniconda3/envs/torch-nightly/lib/python3.8/site-packages/sklearn/linear_model/_logistic.py:1165: UserWarning: l1_ratio parameter is only used when penalty is 'elasticnet'. Got (penalty=l1)\n",
      "  warnings.warn(\n",
      "/Users/bradyallardice/opt/miniconda3/envs/torch-nightly/lib/python3.8/site-packages/sklearn/linear_model/_logistic.py:1165: UserWarning: l1_ratio parameter is only used when penalty is 'elasticnet'. Got (penalty=l1)\n",
      "  warnings.warn(\n",
      "/Users/bradyallardice/opt/miniconda3/envs/torch-nightly/lib/python3.8/site-packages/sklearn/linear_model/_logistic.py:1165: UserWarning: l1_ratio parameter is only used when penalty is 'elasticnet'. Got (penalty=l2)\n",
      "  warnings.warn(\n",
      "/Users/bradyallardice/opt/miniconda3/envs/torch-nightly/lib/python3.8/site-packages/sklearn/linear_model/_logistic.py:1165: UserWarning: l1_ratio parameter is only used when penalty is 'elasticnet'. Got (penalty=l2)\n",
      "  warnings.warn(\n",
      "/Users/bradyallardice/opt/miniconda3/envs/torch-nightly/lib/python3.8/site-packages/sklearn/linear_model/_logistic.py:1165: UserWarning: l1_ratio parameter is only used when penalty is 'elasticnet'. Got (penalty=l2)\n",
      "  warnings.warn(\n",
      "/Users/bradyallardice/opt/miniconda3/envs/torch-nightly/lib/python3.8/site-packages/sklearn/linear_model/_logistic.py:1165: UserWarning: l1_ratio parameter is only used when penalty is 'elasticnet'. Got (penalty=l2)\n",
      "  warnings.warn(\n",
      "/Users/bradyallardice/opt/miniconda3/envs/torch-nightly/lib/python3.8/site-packages/sklearn/linear_model/_logistic.py:1165: UserWarning: l1_ratio parameter is only used when penalty is 'elasticnet'. Got (penalty=l2)\n",
      "  warnings.warn(\n",
      "/Users/bradyallardice/opt/miniconda3/envs/torch-nightly/lib/python3.8/site-packages/sklearn/linear_model/_logistic.py:1165: UserWarning: l1_ratio parameter is only used when penalty is 'elasticnet'. Got (penalty=l1)\n",
      "  warnings.warn(\n",
      "/Users/bradyallardice/opt/miniconda3/envs/torch-nightly/lib/python3.8/site-packages/sklearn/linear_model/_logistic.py:1165: UserWarning: l1_ratio parameter is only used when penalty is 'elasticnet'. Got (penalty=l1)\n",
      "  warnings.warn(\n",
      "/Users/bradyallardice/opt/miniconda3/envs/torch-nightly/lib/python3.8/site-packages/sklearn/linear_model/_logistic.py:1165: UserWarning: l1_ratio parameter is only used when penalty is 'elasticnet'. Got (penalty=l1)\n",
      "  warnings.warn(\n",
      "/Users/bradyallardice/opt/miniconda3/envs/torch-nightly/lib/python3.8/site-packages/sklearn/linear_model/_logistic.py:1165: UserWarning: l1_ratio parameter is only used when penalty is 'elasticnet'. Got (penalty=l1)\n",
      "  warnings.warn(\n",
      "/Users/bradyallardice/opt/miniconda3/envs/torch-nightly/lib/python3.8/site-packages/sklearn/linear_model/_logistic.py:1165: UserWarning: l1_ratio parameter is only used when penalty is 'elasticnet'. Got (penalty=l1)\n",
      "  warnings.warn(\n",
      "/Users/bradyallardice/opt/miniconda3/envs/torch-nightly/lib/python3.8/site-packages/sklearn/linear_model/_logistic.py:1165: UserWarning: l1_ratio parameter is only used when penalty is 'elasticnet'. Got (penalty=l2)\n",
      "  warnings.warn(\n",
      "/Users/bradyallardice/opt/miniconda3/envs/torch-nightly/lib/python3.8/site-packages/sklearn/linear_model/_logistic.py:1165: UserWarning: l1_ratio parameter is only used when penalty is 'elasticnet'. Got (penalty=l2)\n",
      "  warnings.warn(\n",
      "/Users/bradyallardice/opt/miniconda3/envs/torch-nightly/lib/python3.8/site-packages/sklearn/linear_model/_logistic.py:1165: UserWarning: l1_ratio parameter is only used when penalty is 'elasticnet'. Got (penalty=l2)\n",
      "  warnings.warn(\n",
      "/Users/bradyallardice/opt/miniconda3/envs/torch-nightly/lib/python3.8/site-packages/sklearn/linear_model/_logistic.py:1165: UserWarning: l1_ratio parameter is only used when penalty is 'elasticnet'. Got (penalty=l2)\n",
      "  warnings.warn(\n",
      "/Users/bradyallardice/opt/miniconda3/envs/torch-nightly/lib/python3.8/site-packages/sklearn/linear_model/_logistic.py:1165: UserWarning: l1_ratio parameter is only used when penalty is 'elasticnet'. Got (penalty=l2)\n",
      "  warnings.warn(\n",
      "/Users/bradyallardice/opt/miniconda3/envs/torch-nightly/lib/python3.8/site-packages/sklearn/linear_model/_logistic.py:1165: UserWarning: l1_ratio parameter is only used when penalty is 'elasticnet'. Got (penalty=l1)\n",
      "  warnings.warn(\n",
      "/Users/bradyallardice/opt/miniconda3/envs/torch-nightly/lib/python3.8/site-packages/sklearn/linear_model/_logistic.py:1165: UserWarning: l1_ratio parameter is only used when penalty is 'elasticnet'. Got (penalty=l1)\n",
      "  warnings.warn(\n",
      "/Users/bradyallardice/opt/miniconda3/envs/torch-nightly/lib/python3.8/site-packages/sklearn/linear_model/_logistic.py:1165: UserWarning: l1_ratio parameter is only used when penalty is 'elasticnet'. Got (penalty=l1)\n",
      "  warnings.warn(\n",
      "/Users/bradyallardice/opt/miniconda3/envs/torch-nightly/lib/python3.8/site-packages/sklearn/linear_model/_logistic.py:1165: UserWarning: l1_ratio parameter is only used when penalty is 'elasticnet'. Got (penalty=l1)\n",
      "  warnings.warn(\n",
      "/Users/bradyallardice/opt/miniconda3/envs/torch-nightly/lib/python3.8/site-packages/sklearn/linear_model/_logistic.py:1165: UserWarning: l1_ratio parameter is only used when penalty is 'elasticnet'. Got (penalty=l1)\n",
      "  warnings.warn(\n",
      "/Users/bradyallardice/opt/miniconda3/envs/torch-nightly/lib/python3.8/site-packages/sklearn/linear_model/_logistic.py:1165: UserWarning: l1_ratio parameter is only used when penalty is 'elasticnet'. Got (penalty=l2)\n",
      "  warnings.warn(\n",
      "/Users/bradyallardice/opt/miniconda3/envs/torch-nightly/lib/python3.8/site-packages/sklearn/linear_model/_logistic.py:1165: UserWarning: l1_ratio parameter is only used when penalty is 'elasticnet'. Got (penalty=l2)\n",
      "  warnings.warn(\n",
      "/Users/bradyallardice/opt/miniconda3/envs/torch-nightly/lib/python3.8/site-packages/sklearn/linear_model/_logistic.py:1165: UserWarning: l1_ratio parameter is only used when penalty is 'elasticnet'. Got (penalty=l2)\n",
      "  warnings.warn(\n",
      "/Users/bradyallardice/opt/miniconda3/envs/torch-nightly/lib/python3.8/site-packages/sklearn/linear_model/_logistic.py:1165: UserWarning: l1_ratio parameter is only used when penalty is 'elasticnet'. Got (penalty=l2)\n",
      "  warnings.warn(\n",
      "/Users/bradyallardice/opt/miniconda3/envs/torch-nightly/lib/python3.8/site-packages/sklearn/linear_model/_logistic.py:1165: UserWarning: l1_ratio parameter is only used when penalty is 'elasticnet'. Got (penalty=l2)\n",
      "  warnings.warn(\n",
      "/Users/bradyallardice/opt/miniconda3/envs/torch-nightly/lib/python3.8/site-packages/sklearn/linear_model/_logistic.py:1165: UserWarning: l1_ratio parameter is only used when penalty is 'elasticnet'. Got (penalty=l1)\n",
      "  warnings.warn(\n",
      "/Users/bradyallardice/opt/miniconda3/envs/torch-nightly/lib/python3.8/site-packages/sklearn/linear_model/_logistic.py:1165: UserWarning: l1_ratio parameter is only used when penalty is 'elasticnet'. Got (penalty=l1)\n",
      "  warnings.warn(\n",
      "/Users/bradyallardice/opt/miniconda3/envs/torch-nightly/lib/python3.8/site-packages/sklearn/linear_model/_logistic.py:1165: UserWarning: l1_ratio parameter is only used when penalty is 'elasticnet'. Got (penalty=l1)\n",
      "  warnings.warn(\n",
      "/Users/bradyallardice/opt/miniconda3/envs/torch-nightly/lib/python3.8/site-packages/sklearn/linear_model/_logistic.py:1165: UserWarning: l1_ratio parameter is only used when penalty is 'elasticnet'. Got (penalty=l1)\n",
      "  warnings.warn(\n",
      "/Users/bradyallardice/opt/miniconda3/envs/torch-nightly/lib/python3.8/site-packages/sklearn/linear_model/_logistic.py:1165: UserWarning: l1_ratio parameter is only used when penalty is 'elasticnet'. Got (penalty=l1)\n",
      "  warnings.warn(\n",
      "/Users/bradyallardice/opt/miniconda3/envs/torch-nightly/lib/python3.8/site-packages/sklearn/linear_model/_logistic.py:1165: UserWarning: l1_ratio parameter is only used when penalty is 'elasticnet'. Got (penalty=l2)\n",
      "  warnings.warn(\n",
      "/Users/bradyallardice/opt/miniconda3/envs/torch-nightly/lib/python3.8/site-packages/sklearn/linear_model/_logistic.py:1165: UserWarning: l1_ratio parameter is only used when penalty is 'elasticnet'. Got (penalty=l2)\n",
      "  warnings.warn(\n",
      "/Users/bradyallardice/opt/miniconda3/envs/torch-nightly/lib/python3.8/site-packages/sklearn/linear_model/_logistic.py:1165: UserWarning: l1_ratio parameter is only used when penalty is 'elasticnet'. Got (penalty=l2)\n",
      "  warnings.warn(\n",
      "/Users/bradyallardice/opt/miniconda3/envs/torch-nightly/lib/python3.8/site-packages/sklearn/linear_model/_logistic.py:1165: UserWarning: l1_ratio parameter is only used when penalty is 'elasticnet'. Got (penalty=l2)\n",
      "  warnings.warn(\n",
      "/Users/bradyallardice/opt/miniconda3/envs/torch-nightly/lib/python3.8/site-packages/sklearn/linear_model/_logistic.py:1165: UserWarning: l1_ratio parameter is only used when penalty is 'elasticnet'. Got (penalty=l2)\n",
      "  warnings.warn(\n",
      "/Users/bradyallardice/opt/miniconda3/envs/torch-nightly/lib/python3.8/site-packages/sklearn/linear_model/_logistic.py:1165: UserWarning: l1_ratio parameter is only used when penalty is 'elasticnet'. Got (penalty=l1)\n",
      "  warnings.warn(\n",
      "/Users/bradyallardice/opt/miniconda3/envs/torch-nightly/lib/python3.8/site-packages/sklearn/linear_model/_logistic.py:1165: UserWarning: l1_ratio parameter is only used when penalty is 'elasticnet'. Got (penalty=l1)\n",
      "  warnings.warn(\n",
      "/Users/bradyallardice/opt/miniconda3/envs/torch-nightly/lib/python3.8/site-packages/sklearn/linear_model/_logistic.py:1165: UserWarning: l1_ratio parameter is only used when penalty is 'elasticnet'. Got (penalty=l1)\n",
      "  warnings.warn(\n",
      "/Users/bradyallardice/opt/miniconda3/envs/torch-nightly/lib/python3.8/site-packages/sklearn/linear_model/_logistic.py:1165: UserWarning: l1_ratio parameter is only used when penalty is 'elasticnet'. Got (penalty=l1)\n",
      "  warnings.warn(\n",
      "/Users/bradyallardice/opt/miniconda3/envs/torch-nightly/lib/python3.8/site-packages/sklearn/linear_model/_logistic.py:1165: UserWarning: l1_ratio parameter is only used when penalty is 'elasticnet'. Got (penalty=l1)\n",
      "  warnings.warn(\n",
      "/Users/bradyallardice/opt/miniconda3/envs/torch-nightly/lib/python3.8/site-packages/sklearn/linear_model/_logistic.py:1165: UserWarning: l1_ratio parameter is only used when penalty is 'elasticnet'. Got (penalty=l2)\n",
      "  warnings.warn(\n",
      "/Users/bradyallardice/opt/miniconda3/envs/torch-nightly/lib/python3.8/site-packages/sklearn/linear_model/_logistic.py:1165: UserWarning: l1_ratio parameter is only used when penalty is 'elasticnet'. Got (penalty=l2)\n",
      "  warnings.warn(\n",
      "/Users/bradyallardice/opt/miniconda3/envs/torch-nightly/lib/python3.8/site-packages/sklearn/linear_model/_logistic.py:1165: UserWarning: l1_ratio parameter is only used when penalty is 'elasticnet'. Got (penalty=l2)\n",
      "  warnings.warn(\n",
      "/Users/bradyallardice/opt/miniconda3/envs/torch-nightly/lib/python3.8/site-packages/sklearn/linear_model/_logistic.py:1165: UserWarning: l1_ratio parameter is only used when penalty is 'elasticnet'. Got (penalty=l2)\n",
      "  warnings.warn(\n",
      "/Users/bradyallardice/opt/miniconda3/envs/torch-nightly/lib/python3.8/site-packages/sklearn/linear_model/_logistic.py:1165: UserWarning: l1_ratio parameter is only used when penalty is 'elasticnet'. Got (penalty=l2)\n",
      "  warnings.warn(\n",
      "/Users/bradyallardice/opt/miniconda3/envs/torch-nightly/lib/python3.8/site-packages/sklearn/linear_model/_logistic.py:1165: UserWarning: l1_ratio parameter is only used when penalty is 'elasticnet'. Got (penalty=l1)\n",
      "  warnings.warn(\n",
      "/Users/bradyallardice/opt/miniconda3/envs/torch-nightly/lib/python3.8/site-packages/sklearn/linear_model/_logistic.py:1165: UserWarning: l1_ratio parameter is only used when penalty is 'elasticnet'. Got (penalty=l1)\n",
      "  warnings.warn(\n",
      "/Users/bradyallardice/opt/miniconda3/envs/torch-nightly/lib/python3.8/site-packages/sklearn/linear_model/_logistic.py:1165: UserWarning: l1_ratio parameter is only used when penalty is 'elasticnet'. Got (penalty=l1)\n",
      "  warnings.warn(\n",
      "/Users/bradyallardice/opt/miniconda3/envs/torch-nightly/lib/python3.8/site-packages/sklearn/linear_model/_logistic.py:1165: UserWarning: l1_ratio parameter is only used when penalty is 'elasticnet'. Got (penalty=l1)\n",
      "  warnings.warn(\n",
      "/Users/bradyallardice/opt/miniconda3/envs/torch-nightly/lib/python3.8/site-packages/sklearn/linear_model/_logistic.py:1165: UserWarning: l1_ratio parameter is only used when penalty is 'elasticnet'. Got (penalty=l1)\n",
      "  warnings.warn(\n",
      "/Users/bradyallardice/opt/miniconda3/envs/torch-nightly/lib/python3.8/site-packages/sklearn/linear_model/_logistic.py:1165: UserWarning: l1_ratio parameter is only used when penalty is 'elasticnet'. Got (penalty=l2)\n",
      "  warnings.warn(\n",
      "/Users/bradyallardice/opt/miniconda3/envs/torch-nightly/lib/python3.8/site-packages/sklearn/linear_model/_logistic.py:1165: UserWarning: l1_ratio parameter is only used when penalty is 'elasticnet'. Got (penalty=l2)\n",
      "  warnings.warn(\n",
      "/Users/bradyallardice/opt/miniconda3/envs/torch-nightly/lib/python3.8/site-packages/sklearn/linear_model/_logistic.py:1165: UserWarning: l1_ratio parameter is only used when penalty is 'elasticnet'. Got (penalty=l2)\n",
      "  warnings.warn(\n",
      "/Users/bradyallardice/opt/miniconda3/envs/torch-nightly/lib/python3.8/site-packages/sklearn/linear_model/_logistic.py:1165: UserWarning: l1_ratio parameter is only used when penalty is 'elasticnet'. Got (penalty=l2)\n",
      "  warnings.warn(\n",
      "/Users/bradyallardice/opt/miniconda3/envs/torch-nightly/lib/python3.8/site-packages/sklearn/linear_model/_logistic.py:1165: UserWarning: l1_ratio parameter is only used when penalty is 'elasticnet'. Got (penalty=l2)\n",
      "  warnings.warn(\n",
      "/Users/bradyallardice/opt/miniconda3/envs/torch-nightly/lib/python3.8/site-packages/sklearn/linear_model/_logistic.py:1165: UserWarning: l1_ratio parameter is only used when penalty is 'elasticnet'. Got (penalty=l1)\n",
      "  warnings.warn(\n",
      "/Users/bradyallardice/opt/miniconda3/envs/torch-nightly/lib/python3.8/site-packages/sklearn/linear_model/_logistic.py:1165: UserWarning: l1_ratio parameter is only used when penalty is 'elasticnet'. Got (penalty=l1)\n",
      "  warnings.warn(\n",
      "/Users/bradyallardice/opt/miniconda3/envs/torch-nightly/lib/python3.8/site-packages/sklearn/linear_model/_logistic.py:1165: UserWarning: l1_ratio parameter is only used when penalty is 'elasticnet'. Got (penalty=l1)\n",
      "  warnings.warn(\n",
      "/Users/bradyallardice/opt/miniconda3/envs/torch-nightly/lib/python3.8/site-packages/sklearn/linear_model/_logistic.py:1165: UserWarning: l1_ratio parameter is only used when penalty is 'elasticnet'. Got (penalty=l1)\n",
      "  warnings.warn(\n",
      "/Users/bradyallardice/opt/miniconda3/envs/torch-nightly/lib/python3.8/site-packages/sklearn/linear_model/_logistic.py:1165: UserWarning: l1_ratio parameter is only used when penalty is 'elasticnet'. Got (penalty=l1)\n",
      "  warnings.warn(\n",
      "/Users/bradyallardice/opt/miniconda3/envs/torch-nightly/lib/python3.8/site-packages/sklearn/linear_model/_logistic.py:1165: UserWarning: l1_ratio parameter is only used when penalty is 'elasticnet'. Got (penalty=l2)\n",
      "  warnings.warn(\n",
      "/Users/bradyallardice/opt/miniconda3/envs/torch-nightly/lib/python3.8/site-packages/sklearn/linear_model/_logistic.py:1165: UserWarning: l1_ratio parameter is only used when penalty is 'elasticnet'. Got (penalty=l2)\n",
      "  warnings.warn(\n",
      "/Users/bradyallardice/opt/miniconda3/envs/torch-nightly/lib/python3.8/site-packages/sklearn/linear_model/_logistic.py:1165: UserWarning: l1_ratio parameter is only used when penalty is 'elasticnet'. Got (penalty=l2)\n",
      "  warnings.warn(\n",
      "/Users/bradyallardice/opt/miniconda3/envs/torch-nightly/lib/python3.8/site-packages/sklearn/linear_model/_logistic.py:1165: UserWarning: l1_ratio parameter is only used when penalty is 'elasticnet'. Got (penalty=l2)\n",
      "  warnings.warn(\n",
      "/Users/bradyallardice/opt/miniconda3/envs/torch-nightly/lib/python3.8/site-packages/sklearn/linear_model/_logistic.py:1165: UserWarning: l1_ratio parameter is only used when penalty is 'elasticnet'. Got (penalty=l2)\n",
      "  warnings.warn(\n",
      "/Users/bradyallardice/opt/miniconda3/envs/torch-nightly/lib/python3.8/site-packages/sklearn/linear_model/_logistic.py:1165: UserWarning: l1_ratio parameter is only used when penalty is 'elasticnet'. Got (penalty=l1)\n",
      "  warnings.warn(\n",
      "/Users/bradyallardice/opt/miniconda3/envs/torch-nightly/lib/python3.8/site-packages/sklearn/linear_model/_logistic.py:1165: UserWarning: l1_ratio parameter is only used when penalty is 'elasticnet'. Got (penalty=l1)\n",
      "  warnings.warn(\n",
      "/Users/bradyallardice/opt/miniconda3/envs/torch-nightly/lib/python3.8/site-packages/sklearn/linear_model/_logistic.py:1165: UserWarning: l1_ratio parameter is only used when penalty is 'elasticnet'. Got (penalty=l1)\n",
      "  warnings.warn(\n",
      "/Users/bradyallardice/opt/miniconda3/envs/torch-nightly/lib/python3.8/site-packages/sklearn/linear_model/_logistic.py:1165: UserWarning: l1_ratio parameter is only used when penalty is 'elasticnet'. Got (penalty=l1)\n",
      "  warnings.warn(\n",
      "/Users/bradyallardice/opt/miniconda3/envs/torch-nightly/lib/python3.8/site-packages/sklearn/linear_model/_logistic.py:1165: UserWarning: l1_ratio parameter is only used when penalty is 'elasticnet'. Got (penalty=l1)\n",
      "  warnings.warn(\n",
      "/Users/bradyallardice/opt/miniconda3/envs/torch-nightly/lib/python3.8/site-packages/sklearn/linear_model/_logistic.py:1165: UserWarning: l1_ratio parameter is only used when penalty is 'elasticnet'. Got (penalty=l2)\n",
      "  warnings.warn(\n",
      "/Users/bradyallardice/opt/miniconda3/envs/torch-nightly/lib/python3.8/site-packages/sklearn/linear_model/_logistic.py:1165: UserWarning: l1_ratio parameter is only used when penalty is 'elasticnet'. Got (penalty=l2)\n",
      "  warnings.warn(\n",
      "/Users/bradyallardice/opt/miniconda3/envs/torch-nightly/lib/python3.8/site-packages/sklearn/linear_model/_logistic.py:1165: UserWarning: l1_ratio parameter is only used when penalty is 'elasticnet'. Got (penalty=l2)\n",
      "  warnings.warn(\n",
      "/Users/bradyallardice/opt/miniconda3/envs/torch-nightly/lib/python3.8/site-packages/sklearn/linear_model/_logistic.py:1165: UserWarning: l1_ratio parameter is only used when penalty is 'elasticnet'. Got (penalty=l2)\n",
      "  warnings.warn(\n",
      "/Users/bradyallardice/opt/miniconda3/envs/torch-nightly/lib/python3.8/site-packages/sklearn/linear_model/_logistic.py:1165: UserWarning: l1_ratio parameter is only used when penalty is 'elasticnet'. Got (penalty=l2)\n",
      "  warnings.warn(\n",
      "/Users/bradyallardice/opt/miniconda3/envs/torch-nightly/lib/python3.8/site-packages/sklearn/linear_model/_logistic.py:1165: UserWarning: l1_ratio parameter is only used when penalty is 'elasticnet'. Got (penalty=l1)\n",
      "  warnings.warn(\n",
      "/Users/bradyallardice/opt/miniconda3/envs/torch-nightly/lib/python3.8/site-packages/sklearn/linear_model/_logistic.py:1165: UserWarning: l1_ratio parameter is only used when penalty is 'elasticnet'. Got (penalty=l1)\n",
      "  warnings.warn(\n",
      "/Users/bradyallardice/opt/miniconda3/envs/torch-nightly/lib/python3.8/site-packages/sklearn/linear_model/_logistic.py:1165: UserWarning: l1_ratio parameter is only used when penalty is 'elasticnet'. Got (penalty=l1)\n",
      "  warnings.warn(\n",
      "/Users/bradyallardice/opt/miniconda3/envs/torch-nightly/lib/python3.8/site-packages/sklearn/linear_model/_logistic.py:1165: UserWarning: l1_ratio parameter is only used when penalty is 'elasticnet'. Got (penalty=l1)\n",
      "  warnings.warn(\n",
      "/Users/bradyallardice/opt/miniconda3/envs/torch-nightly/lib/python3.8/site-packages/sklearn/linear_model/_logistic.py:1165: UserWarning: l1_ratio parameter is only used when penalty is 'elasticnet'. Got (penalty=l1)\n",
      "  warnings.warn(\n",
      "/Users/bradyallardice/opt/miniconda3/envs/torch-nightly/lib/python3.8/site-packages/sklearn/linear_model/_logistic.py:1165: UserWarning: l1_ratio parameter is only used when penalty is 'elasticnet'. Got (penalty=l2)\n",
      "  warnings.warn(\n",
      "/Users/bradyallardice/opt/miniconda3/envs/torch-nightly/lib/python3.8/site-packages/sklearn/linear_model/_logistic.py:1165: UserWarning: l1_ratio parameter is only used when penalty is 'elasticnet'. Got (penalty=l2)\n",
      "  warnings.warn(\n",
      "/Users/bradyallardice/opt/miniconda3/envs/torch-nightly/lib/python3.8/site-packages/sklearn/linear_model/_logistic.py:1165: UserWarning: l1_ratio parameter is only used when penalty is 'elasticnet'. Got (penalty=l2)\n",
      "  warnings.warn(\n",
      "/Users/bradyallardice/opt/miniconda3/envs/torch-nightly/lib/python3.8/site-packages/sklearn/linear_model/_logistic.py:1165: UserWarning: l1_ratio parameter is only used when penalty is 'elasticnet'. Got (penalty=l2)\n",
      "  warnings.warn(\n",
      "/Users/bradyallardice/opt/miniconda3/envs/torch-nightly/lib/python3.8/site-packages/sklearn/linear_model/_logistic.py:1165: UserWarning: l1_ratio parameter is only used when penalty is 'elasticnet'. Got (penalty=l2)\n",
      "  warnings.warn(\n",
      "/Users/bradyallardice/opt/miniconda3/envs/torch-nightly/lib/python3.8/site-packages/sklearn/linear_model/_logistic.py:1165: UserWarning: l1_ratio parameter is only used when penalty is 'elasticnet'. Got (penalty=l1)\n",
      "  warnings.warn(\n",
      "/Users/bradyallardice/opt/miniconda3/envs/torch-nightly/lib/python3.8/site-packages/sklearn/linear_model/_logistic.py:1165: UserWarning: l1_ratio parameter is only used when penalty is 'elasticnet'. Got (penalty=l1)\n",
      "  warnings.warn(\n",
      "/Users/bradyallardice/opt/miniconda3/envs/torch-nightly/lib/python3.8/site-packages/sklearn/linear_model/_logistic.py:1165: UserWarning: l1_ratio parameter is only used when penalty is 'elasticnet'. Got (penalty=l1)\n",
      "  warnings.warn(\n",
      "/Users/bradyallardice/opt/miniconda3/envs/torch-nightly/lib/python3.8/site-packages/sklearn/linear_model/_logistic.py:1165: UserWarning: l1_ratio parameter is only used when penalty is 'elasticnet'. Got (penalty=l1)\n",
      "  warnings.warn(\n",
      "/Users/bradyallardice/opt/miniconda3/envs/torch-nightly/lib/python3.8/site-packages/sklearn/linear_model/_logistic.py:1165: UserWarning: l1_ratio parameter is only used when penalty is 'elasticnet'. Got (penalty=l1)\n",
      "  warnings.warn(\n",
      "/Users/bradyallardice/opt/miniconda3/envs/torch-nightly/lib/python3.8/site-packages/sklearn/linear_model/_logistic.py:1165: UserWarning: l1_ratio parameter is only used when penalty is 'elasticnet'. Got (penalty=l2)\n",
      "  warnings.warn(\n"
     ]
    },
    {
     "name": "stdout",
     "output_type": "stream",
     "text": [
      "Best score: 0.9307711079464447\n",
      "Best parameters set: LogisticRegression(C=1, class_weight='balanced', l1_ratio=0.5, max_iter=1000,\n",
      "                   n_jobs=-1, solver='saga', verbose=False)\n",
      "              precision    recall  f1-score   support\n",
      "\n",
      "           0       0.97      0.94      0.96       359\n",
      "           1       0.75      0.84      0.79        70\n",
      "\n",
      "    accuracy                           0.93       429\n",
      "   macro avg       0.86      0.89      0.87       429\n",
      "weighted avg       0.93      0.93      0.93       429\n",
      "\n"
     ]
    },
    {
     "data": {
      "text/plain": "array([[339,  20],\n       [ 11,  59]])"
     },
     "execution_count": 37,
     "metadata": {},
     "output_type": "execute_result"
    }
   ],
   "source": [
    "\n",
    "# choose Logistic Regression based on the above performance (close with SVM but slight edge given for higher recall)\n",
    "# initialize parameters to optimize hyperparameters\n",
    "params = {'C': [0.1,1,2,4,8], 'penalty':['l2','l1','elasticnet'], 'l1_ratio':[0.25, 0.5, 0.75]}\n",
    "clf = LogisticRegression(class_weight='balanced', solver='saga', max_iter=1000, n_jobs=-1, verbose=False)\n",
    "\n",
    "# search through parameter grid and fit data with these parameters\n",
    "grid = GridSearchCV(clf, cv=5, param_grid=params, refit=True, scoring='roc_auc')\n",
    "grid.fit(X_train, y_train)\n",
    "\n",
    "# save predictions and print results\n",
    "y_pred = grid.predict(X_test)\n",
    "\n",
    "print('Best score:', grid.best_score_)\n",
    "print('Best parameters set:', grid.best_estimator_)\n",
    "print(classification_report(y_test, y_pred))\n",
    "confusion_matrix(y_test, y_pred)"
   ],
   "metadata": {
    "collapsed": false
   }
  },
  {
   "cell_type": "code",
   "execution_count": 38,
   "outputs": [
    {
     "name": "stderr",
     "output_type": "stream",
     "text": [
      "/var/folders/3p/bkhpj5cj7p77ghh4hx0hz_cw0000gn/T/ipykernel_37938/639206673.py:41: SettingWithCopyWarning: \n",
      "A value is trying to be set on a copy of a slice from a DataFrame.\n",
      "Try using .loc[row_indexer,col_indexer] = value instead\n",
      "\n",
      "See the caveats in the documentation: https://pandas.pydata.org/pandas-docs/stable/user_guide/indexing.html#returning-a-view-versus-a-copy\n",
      "  df_sent['Sentiment'] = np.where(df_sent['Sentiment'] == 'Negaitve', 'Negative', df_sent['Sentiment'])\n",
      "/var/folders/3p/bkhpj5cj7p77ghh4hx0hz_cw0000gn/T/ipykernel_37938/639206673.py:45: SettingWithCopyWarning: \n",
      "A value is trying to be set on a copy of a slice from a DataFrame.\n",
      "Try using .loc[row_indexer,col_indexer] = value instead\n",
      "\n",
      "See the caveats in the documentation: https://pandas.pydata.org/pandas-docs/stable/user_guide/indexing.html#returning-a-view-versus-a-copy\n",
      "  df_sent['sent_analysis_vader'] = df_sent['textbody_stripped'].apply(lambda row: sent_result_vader(row))\n",
      "/var/folders/3p/bkhpj5cj7p77ghh4hx0hz_cw0000gn/T/ipykernel_37938/639206673.py:46: SettingWithCopyWarning: \n",
      "A value is trying to be set on a copy of a slice from a DataFrame.\n",
      "Try using .loc[row_indexer,col_indexer] = value instead\n",
      "\n",
      "See the caveats in the documentation: https://pandas.pydata.org/pandas-docs/stable/user_guide/indexing.html#returning-a-view-versus-a-copy\n",
      "  df_sent['sent_analysis_score_vader'] = df_sent['textbody_stripped'].apply(lambda row: sentiment.polarity_scores(row)['compound'])\n",
      "/var/folders/3p/bkhpj5cj7p77ghh4hx0hz_cw0000gn/T/ipykernel_37938/639206673.py:47: SettingWithCopyWarning: \n",
      "A value is trying to be set on a copy of a slice from a DataFrame.\n",
      "Try using .loc[row_indexer,col_indexer] = value instead\n",
      "\n",
      "See the caveats in the documentation: https://pandas.pydata.org/pandas-docs/stable/user_guide/indexing.html#returning-a-view-versus-a-copy\n",
      "  df_sent['sent_analysis_textblob'] = df_sent['textbody_stripped'].apply(lambda row: sent_result_textblob(row))\n"
     ]
    }
   ],
   "source": [
    "# initialize VADER's sentiment analysis function\n",
    "sentiment = SentimentIntensityAnalyzer()\n",
    "\n",
    "# define a function to classify the sentiment of each row based on the polarity of the text with VADER\n",
    "def sent_result_vader(doc):\n",
    "\n",
    "    sent = sentiment.polarity_scores(doc)\n",
    "    if sent['compound'] >= 0.05 :\n",
    "        return 'Positive'\n",
    "\n",
    "    elif sent['compound'] <= - 0.05 :\n",
    "        return 'Negative'\n",
    "\n",
    "    else :\n",
    "        return 'Neutral'\n",
    "\n",
    "# define a function to classify the sentiment of each row based on the polarity of the text with TextBlob\n",
    "\n",
    "def sent_result_textblob(doc):\n",
    "\n",
    "    sent = TextBlob(doc)\n",
    "    if sent.sentiment.subjectivity > 0.05:\n",
    "\n",
    "        if sent.sentiment.polarity >= 0.05 :\n",
    "            return 'Positive'\n",
    "\n",
    "        elif sent.sentiment.polarity <= - 0.05 :\n",
    "            return 'Negative'\n",
    "\n",
    "        else :\n",
    "            return 'Neutral'\n",
    "\n",
    "    else:\n",
    "        return 'Neutral'\n",
    "\n",
    "# subset the original dataframe to only include rows with labelled Sentiment\n",
    "\n",
    "df_sent = df[df['Sentiment'] != 'None']\n",
    "\n",
    "# Fix the typo in the labeling\n",
    "df_sent['Sentiment'] = np.where(df_sent['Sentiment'] == 'Negaitve', 'Negative', df_sent['Sentiment'])\n",
    "\n",
    "# Apply the above pre-trained functions to the dataset\n",
    "\n",
    "df_sent['sent_analysis_vader'] = df_sent['textbody_stripped'].apply(lambda row: sent_result_vader(row))\n",
    "df_sent['sent_analysis_score_vader'] = df_sent['textbody_stripped'].apply(lambda row: sentiment.polarity_scores(row)['compound'])\n",
    "df_sent['sent_analysis_textblob'] = df_sent['textbody_stripped'].apply(lambda row: sent_result_textblob(row))"
   ],
   "metadata": {
    "collapsed": false
   }
  },
  {
   "cell_type": "code",
   "execution_count": 39,
   "outputs": [
    {
     "name": "stdout",
     "output_type": "stream",
     "text": [
      "Sentiment\n",
      "Positive    131\n",
      "Negative     83\n",
      "Neutral      18\n",
      "dtype: int64\n"
     ]
    },
    {
     "data": {
      "text/plain": "<AxesSubplot: xlabel='Sentiment', ylabel='count'>"
     },
     "execution_count": 39,
     "metadata": {},
     "output_type": "execute_result"
    },
    {
     "data": {
      "text/plain": "<Figure size 640x480 with 1 Axes>",
      "image/png": "[encoded data removed]"
     },
     "metadata": {},
     "output_type": "display_data"
    }
   ],
   "source": [
    "# visualize the distribution of Sentiments\n",
    "\n",
    "print(df_sent.value_counts('Sentiment'))\n",
    "\n",
    "sns.countplot(data=df_sent, x='Sentiment')"
   ],
   "metadata": {
    "collapsed": false
   }
  },
  {
   "cell_type": "code",
   "execution_count": 40,
   "outputs": [
    {
     "data": {
      "text/plain": "True     0.534483\nFalse    0.465517\ndtype: float64"
     },
     "execution_count": 40,
     "metadata": {},
     "output_type": "execute_result"
    }
   ],
   "source": [
    "# View accuracy of textblob\n",
    "(df_sent['Sentiment'] == df_sent['sent_analysis_textblob']).value_counts('data')"
   ],
   "metadata": {
    "collapsed": false
   }
  },
  {
   "cell_type": "code",
   "execution_count": 41,
   "outputs": [
    {
     "data": {
      "text/plain": "True     0.724138\nFalse    0.275862\ndtype: float64"
     },
     "execution_count": 41,
     "metadata": {},
     "output_type": "execute_result"
    }
   ],
   "source": [
    "# View accuracy of textblob\n",
    "(df_sent['Sentiment'] == df_sent['sent_analysis_vader']).value_counts('data')"
   ],
   "metadata": {
    "collapsed": false
   }
  },
  {
   "cell_type": "code",
   "execution_count": 42,
   "outputs": [
    {
     "data": {
      "text/plain": "                     Article ID Is this HRCR? (Y/N) Sentiment  \\\n0     ABBNWS0020211116ehbg000jm                   Y  Positive   \n2     ABCNEW0020150216eb2g0000i                   Y  Negative   \n6     ABCTRS0020070820e38k0002x                   Y   Neutral   \n11    ABPTEL0020220919ei9k0009f                   Y  Negative   \n25    ACWIRE0020221110eiba000ul                   Y  Positive   \n...                         ...                 ...       ...   \n2162  WSTA000020211027ehal0001q                   Y  Positive   \n2173  WWD0000020210121eh1l0002x                   Y  Positive   \n2175  WWD0000020220422ei4m000mc                   Y  Positive   \n2176  XFOT000020200620eg6k0000h                   Y  Negative   \n2177  XFOT000020210402eh420000j                   Y  Negative   \n\n                                               textbody  \\\n0     \"The proposed legislation will establish a too...   \n2     The ground-breaking case has been in and out o...   \n6     But Gunns needs to meet 24 conditions set down...   \n11    The two injured miners were also admitted. Doc...   \n25    * Appointed Arndt Brettschneider to the Board ...   \n...                                                 ...   \n2162  The ESG report is a comprehensive overview of ...   \n2173  “It’s important to empower young adults and th...   \n2175  There will also be a restaurant and a café wit...   \n2176  The company could be fined up to $15,000 per d...   \n2177  For decades Chemours and its predecessor, DuPo...   \n\n                                      textbody_stripped  \\\n0     the proposed legislation will establish a tool...   \n2     the ground-breaking case has been in and out o...   \n6     but gunns needs to meet 24 conditions set down...   \n11    the two injured miners were also admitted. doc...   \n25     appointed arndt brettschneider to the board o...   \n...                                                 ...   \n2162  the esg report is a comprehensive overview of ...   \n2173  its important to empower young adults and that...   \n2175  there will also be a restaurant and a café wit...   \n2176  the company could be fined up to 15,000 per da...   \n2177  for decades chemours and its predecessor, dupo...   \n\n                                                    NLP  \\\n0     (the, proposed, legislation, will, establish, ...   \n2     (the, ground, -, breaking, case, has, been, in...   \n6     (but, gunns, needs, to, meet, 24, conditions, ...   \n11    (the, two, injured, miners, were, also, admitt...   \n25    ( , appointed, arndt, brettschneider, to, the,...   \n...                                                 ...   \n2162  (the, esg, report, is, a, comprehensive, overv...   \n2173  (its, important, to, empower, young, adults, a...   \n2175  (there, will, also, be, a, restaurant, and, a,...   \n2176  (the, company, could, be, fined, up, to, 15,00...   \n2177  (for, decades, chemours, and, its, predecessor...   \n\n                                             key_lemmas  lemma_count  \\\n0     [propose, legislation, establish, tool, enable...          217   \n2     [ground, break, case, court, year, appearance,...          577   \n6     [gunns, need, meet, condition, set, federal, e...          267   \n11    [injure, miner, admit, doctor, say, suffer, se...          134   \n25    [appoint, arndt, brettschneider, board, direct...          980   \n...                                                 ...          ...   \n2162  [esg, report, comprehensive, overview, metric,...          265   \n2173  [important, empower, young, adult, include, wo...          322   \n2175  [restaurant, café, nation, cuisine, atrium, br...          569   \n2176  [company, fine, day, violation, letter, say, t...          326   \n2177  [decade, chemour, predecessor, dupont, dump, m...          368   \n\n      related_phrases  token_number  related_phrases_prop  job_creator  \\\n0                   4           217              0.018433            0   \n2                   2           577              0.003466            0   \n6                   1           267              0.003745            0   \n11                  1           134              0.007463            0   \n25                  1           980              0.001020            0   \n...               ...           ...                   ...          ...   \n2162                4           265              0.015094            0   \n2173                2           322              0.006211            0   \n2175               17           569              0.029877            0   \n2176                2           326              0.006135            0   \n2177                2           368              0.005435            0   \n\n                                           bag_of_words  target  \\\n0     propose legislation establish tool enable gove...       1   \n2     ground break case court year appearance soon l...       1   \n6     gunns need meet condition set federal environm...       1   \n11    injure miner admit doctor say suffer severe he...       1   \n25    appoint arndt brettschneider board director no...       1   \n...                                                 ...     ...   \n2162  esg report comprehensive overview metric polic...       1   \n2173  important empower young adult include woman am...       1   \n2175  restaurant café nation cuisine atrium brighten...       1   \n2176  company fine day violation letter say tolerate...       1   \n2177  decade chemour predecessor dupont dump manmade...       1   \n\n     sent_analysis_vader  sent_analysis_score_vader sent_analysis_textblob  \n0               Positive                     0.9656               Positive  \n2               Positive                     0.9989               Positive  \n6               Negative                    -0.1467               Positive  \n11              Negative                    -0.9869               Negative  \n25              Positive                     0.8156                Neutral  \n...                  ...                        ...                    ...  \n2162            Positive                     0.9968               Positive  \n2173            Positive                     0.9978               Positive  \n2175            Positive                     0.9954               Positive  \n2176            Negative                    -0.9209                Neutral  \n2177            Negative                    -0.8861               Positive  \n\n[232 rows x 17 columns]",
      "text/html": "<div>\n<style scoped>\n    .dataframe tbody tr th:only-of-type {\n        vertical-align: middle;\n    }\n\n    .dataframe tbody tr th {\n        vertical-align: top;\n    }\n\n    .dataframe thead th {\n        text-align: right;\n    }\n</style>\n<table border=\"1\" class=\"dataframe\">\n  <thead>\n    <tr style=\"text-align: right;\">\n      <th></th>\n      <th>Article ID</th>\n      <th>Is this HRCR? (Y/N)</th>\n      <th>Sentiment</th>\n      <th>textbody</th>\n      <th>textbody_stripped</th>\n      <th>NLP</th>\n      <th>key_lemmas</th>\n      <th>lemma_count</th>\n      <th>related_phrases</th>\n      <th>token_number</th>\n      <th>related_phrases_prop</th>\n      <th>job_creator</th>\n      <th>bag_of_words</th>\n      <th>target</th>\n      <th>sent_analysis_vader</th>\n      <th>sent_analysis_score_vader</th>\n      <th>sent_analysis_textblob</th>\n    </tr>\n  </thead>\n  <tbody>\n    <tr>\n      <th>0</th>\n      <td>ABBNWS0020211116ehbg000jm</td>\n      <td>Y</td>\n      <td>Positive</td>\n      <td>\"The proposed legislation will establish a too...</td>\n      <td>the proposed legislation will establish a tool...</td>\n      <td>(the, proposed, legislation, will, establish, ...</td>\n      <td>[propose, legislation, establish, tool, enable...</td>\n      <td>217</td>\n      <td>4</td>\n      <td>217</td>\n      <td>0.018433</td>\n      <td>0</td>\n      <td>propose legislation establish tool enable gove...</td>\n      <td>1</td>\n      <td>Positive</td>\n      <td>0.9656</td>\n      <td>Positive</td>\n    </tr>\n    <tr>\n      <th>2</th>\n      <td>ABCNEW0020150216eb2g0000i</td>\n      <td>Y</td>\n      <td>Negative</td>\n      <td>The ground-breaking case has been in and out o...</td>\n      <td>the ground-breaking case has been in and out o...</td>\n      <td>(the, ground, -, breaking, case, has, been, in...</td>\n      <td>[ground, break, case, court, year, appearance,...</td>\n      <td>577</td>\n      <td>2</td>\n      <td>577</td>\n      <td>0.003466</td>\n      <td>0</td>\n      <td>ground break case court year appearance soon l...</td>\n      <td>1</td>\n      <td>Positive</td>\n      <td>0.9989</td>\n      <td>Positive</td>\n    </tr>\n    <tr>\n      <th>6</th>\n      <td>ABCTRS0020070820e38k0002x</td>\n      <td>Y</td>\n      <td>Neutral</td>\n      <td>But Gunns needs to meet 24 conditions set down...</td>\n      <td>but gunns needs to meet 24 conditions set down...</td>\n      <td>(but, gunns, needs, to, meet, 24, conditions, ...</td>\n      <td>[gunns, need, meet, condition, set, federal, e...</td>\n      <td>267</td>\n      <td>1</td>\n      <td>267</td>\n      <td>0.003745</td>\n      <td>0</td>\n      <td>gunns need meet condition set federal environm...</td>\n      <td>1</td>\n      <td>Negative</td>\n      <td>-0.1467</td>\n      <td>Positive</td>\n    </tr>\n    <tr>\n      <th>11</th>\n      <td>ABPTEL0020220919ei9k0009f</td>\n      <td>Y</td>\n      <td>Negative</td>\n      <td>The two injured miners were also admitted. Doc...</td>\n      <td>the two injured miners were also admitted. doc...</td>\n      <td>(the, two, injured, miners, were, also, admitt...</td>\n      <td>[injure, miner, admit, doctor, say, suffer, se...</td>\n      <td>134</td>\n      <td>1</td>\n      <td>134</td>\n      <td>0.007463</td>\n      <td>0</td>\n      <td>injure miner admit doctor say suffer severe he...</td>\n      <td>1</td>\n      <td>Negative</td>\n      <td>-0.9869</td>\n      <td>Negative</td>\n    </tr>\n    <tr>\n      <th>25</th>\n      <td>ACWIRE0020221110eiba000ul</td>\n      <td>Y</td>\n      <td>Positive</td>\n      <td>* Appointed Arndt Brettschneider to the Board ...</td>\n      <td>appointed arndt brettschneider to the board o...</td>\n      <td>( , appointed, arndt, brettschneider, to, the,...</td>\n      <td>[appoint, arndt, brettschneider, board, direct...</td>\n      <td>980</td>\n      <td>1</td>\n      <td>980</td>\n      <td>0.001020</td>\n      <td>0</td>\n      <td>appoint arndt brettschneider board director no...</td>\n      <td>1</td>\n      <td>Positive</td>\n      <td>0.8156</td>\n      <td>Neutral</td>\n    </tr>\n    <tr>\n      <th>...</th>\n      <td>...</td>\n      <td>...</td>\n      <td>...</td>\n      <td>...</td>\n      <td>...</td>\n      <td>...</td>\n      <td>...</td>\n      <td>...</td>\n      <td>...</td>\n      <td>...</td>\n      <td>...</td>\n      <td>...</td>\n      <td>...</td>\n      <td>...</td>\n      <td>...</td>\n      <td>...</td>\n      <td>...</td>\n    </tr>\n    <tr>\n      <th>2162</th>\n      <td>WSTA000020211027ehal0001q</td>\n      <td>Y</td>\n      <td>Positive</td>\n      <td>The ESG report is a comprehensive overview of ...</td>\n      <td>the esg report is a comprehensive overview of ...</td>\n      <td>(the, esg, report, is, a, comprehensive, overv...</td>\n      <td>[esg, report, comprehensive, overview, metric,...</td>\n      <td>265</td>\n      <td>4</td>\n      <td>265</td>\n      <td>0.015094</td>\n      <td>0</td>\n      <td>esg report comprehensive overview metric polic...</td>\n      <td>1</td>\n      <td>Positive</td>\n      <td>0.9968</td>\n      <td>Positive</td>\n    </tr>\n    <tr>\n      <th>2173</th>\n      <td>WWD0000020210121eh1l0002x</td>\n      <td>Y</td>\n      <td>Positive</td>\n      <td>“It’s important to empower young adults and th...</td>\n      <td>its important to empower young adults and that...</td>\n      <td>(its, important, to, empower, young, adults, a...</td>\n      <td>[important, empower, young, adult, include, wo...</td>\n      <td>322</td>\n      <td>2</td>\n      <td>322</td>\n      <td>0.006211</td>\n      <td>0</td>\n      <td>important empower young adult include woman am...</td>\n      <td>1</td>\n      <td>Positive</td>\n      <td>0.9978</td>\n      <td>Positive</td>\n    </tr>\n    <tr>\n      <th>2175</th>\n      <td>WWD0000020220422ei4m000mc</td>\n      <td>Y</td>\n      <td>Positive</td>\n      <td>There will also be a restaurant and a café wit...</td>\n      <td>there will also be a restaurant and a café wit...</td>\n      <td>(there, will, also, be, a, restaurant, and, a,...</td>\n      <td>[restaurant, café, nation, cuisine, atrium, br...</td>\n      <td>569</td>\n      <td>17</td>\n      <td>569</td>\n      <td>0.029877</td>\n      <td>0</td>\n      <td>restaurant café nation cuisine atrium brighten...</td>\n      <td>1</td>\n      <td>Positive</td>\n      <td>0.9954</td>\n      <td>Positive</td>\n    </tr>\n    <tr>\n      <th>2176</th>\n      <td>XFOT000020200620eg6k0000h</td>\n      <td>Y</td>\n      <td>Negative</td>\n      <td>The company could be fined up to $15,000 per d...</td>\n      <td>the company could be fined up to 15,000 per da...</td>\n      <td>(the, company, could, be, fined, up, to, 15,00...</td>\n      <td>[company, fine, day, violation, letter, say, t...</td>\n      <td>326</td>\n      <td>2</td>\n      <td>326</td>\n      <td>0.006135</td>\n      <td>0</td>\n      <td>company fine day violation letter say tolerate...</td>\n      <td>1</td>\n      <td>Negative</td>\n      <td>-0.9209</td>\n      <td>Neutral</td>\n    </tr>\n    <tr>\n      <th>2177</th>\n      <td>XFOT000020210402eh420000j</td>\n      <td>Y</td>\n      <td>Negative</td>\n      <td>For decades Chemours and its predecessor, DuPo...</td>\n      <td>for decades chemours and its predecessor, dupo...</td>\n      <td>(for, decades, chemours, and, its, predecessor...</td>\n      <td>[decade, chemour, predecessor, dupont, dump, m...</td>\n      <td>368</td>\n      <td>2</td>\n      <td>368</td>\n      <td>0.005435</td>\n      <td>0</td>\n      <td>decade chemour predecessor dupont dump manmade...</td>\n      <td>1</td>\n      <td>Negative</td>\n      <td>-0.8861</td>\n      <td>Positive</td>\n    </tr>\n  </tbody>\n</table>\n<p>232 rows × 17 columns</p>\n</div>"
     },
     "execution_count": 42,
     "metadata": {},
     "output_type": "execute_result"
    }
   ],
   "source": [
    "df_sent"
   ],
   "metadata": {
    "collapsed": false
   }
  },
  {
   "cell_type": "code",
   "execution_count": 45,
   "outputs": [
    {
     "name": "stderr",
     "output_type": "stream",
     "text": [
      "/var/folders/3p/bkhpj5cj7p77ghh4hx0hz_cw0000gn/T/ipykernel_37938/3447062589.py:2: SettingWithCopyWarning: \n",
      "A value is trying to be set on a copy of a slice from a DataFrame.\n",
      "Try using .loc[row_indexer,col_indexer] = value instead\n",
      "\n",
      "See the caveats in the documentation: https://pandas.pydata.org/pandas-docs/stable/user_guide/indexing.html#returning-a-view-versus-a-copy\n",
      "  df_sent['bag_of_words'] = df_sent.key_lemmas.apply(lambda row: ' '.join(row))\n",
      "/var/folders/3p/bkhpj5cj7p77ghh4hx0hz_cw0000gn/T/ipykernel_37938/3447062589.py:8: SettingWithCopyWarning: \n",
      "A value is trying to be set on a copy of a slice from a DataFrame.\n",
      "Try using .loc[row_indexer,col_indexer] = value instead\n",
      "\n",
      "See the caveats in the documentation: https://pandas.pydata.org/pandas-docs/stable/user_guide/indexing.html#returning-a-view-versus-a-copy\n",
      "  df_sent['sent_val'] = np.where(df_sent['Sentiment'] == 'Positive', 2, np.where(df_sent['Sentiment'] == 'Negative', 0, 1))\n",
      "/Users/bradyallardice/opt/miniconda3/envs/torch-nightly/lib/python3.8/site-packages/sklearn/linear_model/_logistic.py:458: ConvergenceWarning: lbfgs failed to converge (status=1):\n",
      "STOP: TOTAL NO. of ITERATIONS REACHED LIMIT.\n",
      "\n",
      "Increase the number of iterations (max_iter) or scale the data as shown in:\n",
      "    https://scikit-learn.org/stable/modules/preprocessing.html\n",
      "Please also refer to the documentation for alternative solver options:\n",
      "    https://scikit-learn.org/stable/modules/linear_model.html#logistic-regression\n",
      "  n_iter_i = _check_optimize_result(\n",
      "/Users/bradyallardice/opt/miniconda3/envs/torch-nightly/lib/python3.8/site-packages/sklearn/linear_model/_logistic.py:458: ConvergenceWarning: lbfgs failed to converge (status=1):\n",
      "STOP: TOTAL NO. of ITERATIONS REACHED LIMIT.\n",
      "\n",
      "Increase the number of iterations (max_iter) or scale the data as shown in:\n",
      "    https://scikit-learn.org/stable/modules/preprocessing.html\n",
      "Please also refer to the documentation for alternative solver options:\n",
      "    https://scikit-learn.org/stable/modules/linear_model.html#logistic-regression\n",
      "  n_iter_i = _check_optimize_result(\n"
     ]
    },
    {
     "data": {
      "text/plain": "                  name  balanced_accuracy  accuracy  roc_auc_ovr\n1          Naive Bayes           0.607181  0.833333     0.814826\n2  Logistic Regression           0.576382  0.802469     0.764386\n4              XGBoost           0.562422  0.796296     0.841995\n3                  SVM           0.557159  0.790123     0.777513\n0        Random Forest           0.536182  0.777778     0.870248",
      "text/html": "<div>\n<style scoped>\n    .dataframe tbody tr th:only-of-type {\n        vertical-align: middle;\n    }\n\n    .dataframe tbody tr th {\n        vertical-align: top;\n    }\n\n    .dataframe thead th {\n        text-align: right;\n    }\n</style>\n<table border=\"1\" class=\"dataframe\">\n  <thead>\n    <tr style=\"text-align: right;\">\n      <th></th>\n      <th>name</th>\n      <th>balanced_accuracy</th>\n      <th>accuracy</th>\n      <th>roc_auc_ovr</th>\n    </tr>\n  </thead>\n  <tbody>\n    <tr>\n      <th>1</th>\n      <td>Naive Bayes</td>\n      <td>0.607181</td>\n      <td>0.833333</td>\n      <td>0.814826</td>\n    </tr>\n    <tr>\n      <th>2</th>\n      <td>Logistic Regression</td>\n      <td>0.576382</td>\n      <td>0.802469</td>\n      <td>0.764386</td>\n    </tr>\n    <tr>\n      <th>4</th>\n      <td>XGBoost</td>\n      <td>0.562422</td>\n      <td>0.796296</td>\n      <td>0.841995</td>\n    </tr>\n    <tr>\n      <th>3</th>\n      <td>SVM</td>\n      <td>0.557159</td>\n      <td>0.790123</td>\n      <td>0.777513</td>\n    </tr>\n    <tr>\n      <th>0</th>\n      <td>Random Forest</td>\n      <td>0.536182</td>\n      <td>0.777778</td>\n      <td>0.870248</td>\n    </tr>\n  </tbody>\n</table>\n</div>"
     },
     "execution_count": 45,
     "metadata": {},
     "output_type": "execute_result"
    }
   ],
   "source": [
    "\n",
    "# create a bag of words string for Count Vectorizer\n",
    "df_sent['bag_of_words'] = df_sent.key_lemmas.apply(lambda row: ' '.join(row))\n",
    "\n",
    "cv = CountVectorizer(lowercase=False, ngram_range = (1,2), max_features=1000)\n",
    "X = cv.fit_transform(df_sent['bag_of_words'])\n",
    "\n",
    "# remap sentiment to take values 0 for Negative, 1 for Neutral, and 2 for Positive and make target variable\n",
    "df_sent['sent_val'] = np.where(df_sent['Sentiment'] == 'Positive', 2, np.where(df_sent['Sentiment'] == 'Negative', 0, 1))\n",
    "y = df_sent['sent_val'].values\n",
    "\n",
    "# split into train and test\n",
    "X_sent_train, X_sent_test, y_sent_train, y_sent_test = train_test_split(X, y, train_size=0.7, random_state=0, stratify=y)\n",
    "\n",
    "\n",
    "# create a dataframe to compare base algorithms' performance\n",
    "algo_df_sent = {'name':[],\n",
    "           'balanced_accuracy':[],\n",
    "           'accuracy':[],\n",
    "           'roc_auc_ovr':[]\n",
    "           }\n",
    "# create function to append algorithm results to dataframe\n",
    "def compare_algos_sent(name, clf):\n",
    "\n",
    "    cv = cross_validate(clf, X_sent_train, y_sent_train, cv=3, scoring=['balanced_accuracy','roc_auc_ovr','accuracy'])\n",
    "    algo_df_sent['name'].append(name)\n",
    "    algo_df_sent['roc_auc_ovr'].append(cv['test_roc_auc_ovr'].mean())\n",
    "    algo_df_sent['balanced_accuracy'].append(cv['test_balanced_accuracy'].mean())\n",
    "    algo_df_sent['accuracy'].append(cv['test_accuracy'].mean())\n",
    "\n",
    "compare_algos_sent('Random Forest', RandomForestClassifier(class_weight='balanced'))\n",
    "compare_algos_sent('Naive Bayes', MultinomialNB())\n",
    "compare_algos_sent('Logistic Regression', LogisticRegression(class_weight='balanced'))\n",
    "compare_algos_sent('SVM', SVC(class_weight='balanced', probability=True))\n",
    "compare_algos_sent('XGBoost', XGBClassifier())\n",
    "\n",
    "# see which algo proved the most promising on the data\n",
    "algo_df_sent = pd.DataFrame(algo_df_sent)\n",
    "algo_df_sent.sort_values('balanced_accuracy', ascending=False)"
   ],
   "metadata": {
    "collapsed": false
   }
  },
  {
   "cell_type": "code",
   "execution_count": 46,
   "outputs": [
    {
     "name": "stderr",
     "output_type": "stream",
     "text": [
      "/Users/bradyallardice/opt/miniconda3/envs/torch-nightly/lib/python3.8/site-packages/sklearn/linear_model/_sag.py:350: ConvergenceWarning: The max_iter was reached which means the coef_ did not converge\n",
      "  warnings.warn(\n",
      "/Users/bradyallardice/opt/miniconda3/envs/torch-nightly/lib/python3.8/site-packages/sklearn/linear_model/_sag.py:350: ConvergenceWarning: The max_iter was reached which means the coef_ did not converge\n",
      "  warnings.warn(\n",
      "/Users/bradyallardice/opt/miniconda3/envs/torch-nightly/lib/python3.8/site-packages/sklearn/linear_model/_sag.py:350: ConvergenceWarning: The max_iter was reached which means the coef_ did not converge\n",
      "  warnings.warn(\n",
      "/Users/bradyallardice/opt/miniconda3/envs/torch-nightly/lib/python3.8/site-packages/sklearn/linear_model/_sag.py:350: ConvergenceWarning: The max_iter was reached which means the coef_ did not converge\n",
      "  warnings.warn(\n",
      "/Users/bradyallardice/opt/miniconda3/envs/torch-nightly/lib/python3.8/site-packages/sklearn/linear_model/_sag.py:350: ConvergenceWarning: The max_iter was reached which means the coef_ did not converge\n",
      "  warnings.warn(\n",
      "/Users/bradyallardice/opt/miniconda3/envs/torch-nightly/lib/python3.8/site-packages/sklearn/linear_model/_sag.py:350: ConvergenceWarning: The max_iter was reached which means the coef_ did not converge\n",
      "  warnings.warn(\n",
      "/Users/bradyallardice/opt/miniconda3/envs/torch-nightly/lib/python3.8/site-packages/sklearn/linear_model/_sag.py:350: ConvergenceWarning: The max_iter was reached which means the coef_ did not converge\n",
      "  warnings.warn(\n",
      "/Users/bradyallardice/opt/miniconda3/envs/torch-nightly/lib/python3.8/site-packages/sklearn/linear_model/_sag.py:350: ConvergenceWarning: The max_iter was reached which means the coef_ did not converge\n",
      "  warnings.warn(\n",
      "/Users/bradyallardice/opt/miniconda3/envs/torch-nightly/lib/python3.8/site-packages/sklearn/linear_model/_sag.py:350: ConvergenceWarning: The max_iter was reached which means the coef_ did not converge\n",
      "  warnings.warn(\n",
      "/Users/bradyallardice/opt/miniconda3/envs/torch-nightly/lib/python3.8/site-packages/sklearn/linear_model/_sag.py:350: ConvergenceWarning: The max_iter was reached which means the coef_ did not converge\n",
      "  warnings.warn(\n",
      "/Users/bradyallardice/opt/miniconda3/envs/torch-nightly/lib/python3.8/site-packages/sklearn/linear_model/_sag.py:350: ConvergenceWarning: The max_iter was reached which means the coef_ did not converge\n",
      "  warnings.warn(\n",
      "/Users/bradyallardice/opt/miniconda3/envs/torch-nightly/lib/python3.8/site-packages/sklearn/linear_model/_sag.py:350: ConvergenceWarning: The max_iter was reached which means the coef_ did not converge\n",
      "  warnings.warn(\n",
      "/Users/bradyallardice/opt/miniconda3/envs/torch-nightly/lib/python3.8/site-packages/sklearn/linear_model/_sag.py:350: ConvergenceWarning: The max_iter was reached which means the coef_ did not converge\n",
      "  warnings.warn(\n",
      "/Users/bradyallardice/opt/miniconda3/envs/torch-nightly/lib/python3.8/site-packages/sklearn/linear_model/_sag.py:350: ConvergenceWarning: The max_iter was reached which means the coef_ did not converge\n",
      "  warnings.warn(\n",
      "/Users/bradyallardice/opt/miniconda3/envs/torch-nightly/lib/python3.8/site-packages/sklearn/linear_model/_sag.py:350: ConvergenceWarning: The max_iter was reached which means the coef_ did not converge\n",
      "  warnings.warn(\n",
      "/Users/bradyallardice/opt/miniconda3/envs/torch-nightly/lib/python3.8/site-packages/sklearn/linear_model/_sag.py:350: ConvergenceWarning: The max_iter was reached which means the coef_ did not converge\n",
      "  warnings.warn(\n",
      "/Users/bradyallardice/opt/miniconda3/envs/torch-nightly/lib/python3.8/site-packages/sklearn/linear_model/_sag.py:350: ConvergenceWarning: The max_iter was reached which means the coef_ did not converge\n",
      "  warnings.warn(\n",
      "/Users/bradyallardice/opt/miniconda3/envs/torch-nightly/lib/python3.8/site-packages/sklearn/linear_model/_sag.py:350: ConvergenceWarning: The max_iter was reached which means the coef_ did not converge\n",
      "  warnings.warn(\n",
      "/Users/bradyallardice/opt/miniconda3/envs/torch-nightly/lib/python3.8/site-packages/sklearn/linear_model/_sag.py:350: ConvergenceWarning: The max_iter was reached which means the coef_ did not converge\n",
      "  warnings.warn(\n",
      "/Users/bradyallardice/opt/miniconda3/envs/torch-nightly/lib/python3.8/site-packages/sklearn/linear_model/_sag.py:350: ConvergenceWarning: The max_iter was reached which means the coef_ did not converge\n",
      "  warnings.warn(\n",
      "/Users/bradyallardice/opt/miniconda3/envs/torch-nightly/lib/python3.8/site-packages/sklearn/linear_model/_sag.py:350: ConvergenceWarning: The max_iter was reached which means the coef_ did not converge\n",
      "  warnings.warn(\n",
      "/Users/bradyallardice/opt/miniconda3/envs/torch-nightly/lib/python3.8/site-packages/sklearn/linear_model/_sag.py:350: ConvergenceWarning: The max_iter was reached which means the coef_ did not converge\n",
      "  warnings.warn(\n",
      "/Users/bradyallardice/opt/miniconda3/envs/torch-nightly/lib/python3.8/site-packages/sklearn/linear_model/_sag.py:350: ConvergenceWarning: The max_iter was reached which means the coef_ did not converge\n",
      "  warnings.warn(\n",
      "/Users/bradyallardice/opt/miniconda3/envs/torch-nightly/lib/python3.8/site-packages/sklearn/linear_model/_sag.py:350: ConvergenceWarning: The max_iter was reached which means the coef_ did not converge\n",
      "  warnings.warn(\n",
      "/Users/bradyallardice/opt/miniconda3/envs/torch-nightly/lib/python3.8/site-packages/sklearn/linear_model/_sag.py:350: ConvergenceWarning: The max_iter was reached which means the coef_ did not converge\n",
      "  warnings.warn(\n",
      "/Users/bradyallardice/opt/miniconda3/envs/torch-nightly/lib/python3.8/site-packages/sklearn/linear_model/_sag.py:350: ConvergenceWarning: The max_iter was reached which means the coef_ did not converge\n",
      "  warnings.warn(\n",
      "/Users/bradyallardice/opt/miniconda3/envs/torch-nightly/lib/python3.8/site-packages/sklearn/linear_model/_sag.py:350: ConvergenceWarning: The max_iter was reached which means the coef_ did not converge\n",
      "  warnings.warn(\n",
      "/Users/bradyallardice/opt/miniconda3/envs/torch-nightly/lib/python3.8/site-packages/sklearn/linear_model/_sag.py:350: ConvergenceWarning: The max_iter was reached which means the coef_ did not converge\n",
      "  warnings.warn(\n",
      "/Users/bradyallardice/opt/miniconda3/envs/torch-nightly/lib/python3.8/site-packages/sklearn/linear_model/_sag.py:350: ConvergenceWarning: The max_iter was reached which means the coef_ did not converge\n",
      "  warnings.warn(\n",
      "/Users/bradyallardice/opt/miniconda3/envs/torch-nightly/lib/python3.8/site-packages/sklearn/linear_model/_sag.py:350: ConvergenceWarning: The max_iter was reached which means the coef_ did not converge\n",
      "  warnings.warn(\n",
      "/Users/bradyallardice/opt/miniconda3/envs/torch-nightly/lib/python3.8/site-packages/sklearn/linear_model/_sag.py:350: ConvergenceWarning: The max_iter was reached which means the coef_ did not converge\n",
      "  warnings.warn(\n",
      "/Users/bradyallardice/opt/miniconda3/envs/torch-nightly/lib/python3.8/site-packages/sklearn/linear_model/_sag.py:350: ConvergenceWarning: The max_iter was reached which means the coef_ did not converge\n",
      "  warnings.warn(\n",
      "/Users/bradyallardice/opt/miniconda3/envs/torch-nightly/lib/python3.8/site-packages/sklearn/linear_model/_sag.py:350: ConvergenceWarning: The max_iter was reached which means the coef_ did not converge\n",
      "  warnings.warn(\n",
      "/Users/bradyallardice/opt/miniconda3/envs/torch-nightly/lib/python3.8/site-packages/sklearn/linear_model/_sag.py:350: ConvergenceWarning: The max_iter was reached which means the coef_ did not converge\n",
      "  warnings.warn(\n",
      "/Users/bradyallardice/opt/miniconda3/envs/torch-nightly/lib/python3.8/site-packages/sklearn/linear_model/_sag.py:350: ConvergenceWarning: The max_iter was reached which means the coef_ did not converge\n",
      "  warnings.warn(\n",
      "/Users/bradyallardice/opt/miniconda3/envs/torch-nightly/lib/python3.8/site-packages/sklearn/linear_model/_sag.py:350: ConvergenceWarning: The max_iter was reached which means the coef_ did not converge\n",
      "  warnings.warn(\n",
      "/Users/bradyallardice/opt/miniconda3/envs/torch-nightly/lib/python3.8/site-packages/sklearn/linear_model/_sag.py:350: ConvergenceWarning: The max_iter was reached which means the coef_ did not converge\n",
      "  warnings.warn(\n",
      "/Users/bradyallardice/opt/miniconda3/envs/torch-nightly/lib/python3.8/site-packages/sklearn/linear_model/_sag.py:350: ConvergenceWarning: The max_iter was reached which means the coef_ did not converge\n",
      "  warnings.warn(\n",
      "/Users/bradyallardice/opt/miniconda3/envs/torch-nightly/lib/python3.8/site-packages/sklearn/linear_model/_sag.py:350: ConvergenceWarning: The max_iter was reached which means the coef_ did not converge\n",
      "  warnings.warn(\n",
      "/Users/bradyallardice/opt/miniconda3/envs/torch-nightly/lib/python3.8/site-packages/sklearn/linear_model/_sag.py:350: ConvergenceWarning: The max_iter was reached which means the coef_ did not converge\n",
      "  warnings.warn(\n",
      "/Users/bradyallardice/opt/miniconda3/envs/torch-nightly/lib/python3.8/site-packages/sklearn/linear_model/_sag.py:350: ConvergenceWarning: The max_iter was reached which means the coef_ did not converge\n",
      "  warnings.warn(\n",
      "/Users/bradyallardice/opt/miniconda3/envs/torch-nightly/lib/python3.8/site-packages/sklearn/linear_model/_sag.py:350: ConvergenceWarning: The max_iter was reached which means the coef_ did not converge\n",
      "  warnings.warn(\n",
      "/Users/bradyallardice/opt/miniconda3/envs/torch-nightly/lib/python3.8/site-packages/sklearn/linear_model/_sag.py:350: ConvergenceWarning: The max_iter was reached which means the coef_ did not converge\n",
      "  warnings.warn(\n",
      "/Users/bradyallardice/opt/miniconda3/envs/torch-nightly/lib/python3.8/site-packages/sklearn/linear_model/_sag.py:350: ConvergenceWarning: The max_iter was reached which means the coef_ did not converge\n",
      "  warnings.warn(\n",
      "/Users/bradyallardice/opt/miniconda3/envs/torch-nightly/lib/python3.8/site-packages/sklearn/linear_model/_sag.py:350: ConvergenceWarning: The max_iter was reached which means the coef_ did not converge\n",
      "  warnings.warn(\n",
      "/Users/bradyallardice/opt/miniconda3/envs/torch-nightly/lib/python3.8/site-packages/sklearn/linear_model/_sag.py:350: ConvergenceWarning: The max_iter was reached which means the coef_ did not converge\n",
      "  warnings.warn(\n",
      "/Users/bradyallardice/opt/miniconda3/envs/torch-nightly/lib/python3.8/site-packages/sklearn/linear_model/_sag.py:350: ConvergenceWarning: The max_iter was reached which means the coef_ did not converge\n",
      "  warnings.warn(\n",
      "/Users/bradyallardice/opt/miniconda3/envs/torch-nightly/lib/python3.8/site-packages/sklearn/linear_model/_sag.py:350: ConvergenceWarning: The max_iter was reached which means the coef_ did not converge\n",
      "  warnings.warn(\n",
      "/Users/bradyallardice/opt/miniconda3/envs/torch-nightly/lib/python3.8/site-packages/sklearn/linear_model/_sag.py:350: ConvergenceWarning: The max_iter was reached which means the coef_ did not converge\n",
      "  warnings.warn(\n",
      "/Users/bradyallardice/opt/miniconda3/envs/torch-nightly/lib/python3.8/site-packages/sklearn/linear_model/_sag.py:350: ConvergenceWarning: The max_iter was reached which means the coef_ did not converge\n",
      "  warnings.warn(\n",
      "/Users/bradyallardice/opt/miniconda3/envs/torch-nightly/lib/python3.8/site-packages/sklearn/linear_model/_sag.py:350: ConvergenceWarning: The max_iter was reached which means the coef_ did not converge\n",
      "  warnings.warn(\n"
     ]
    },
    {
     "name": "stdout",
     "output_type": "stream",
     "text": [
      "Best score: 0.90929346631276\n",
      "Best parameters set: Pipeline(steps=[('vect',\n",
      "                 CountVectorizer(max_features=2000, ngram_range=(1, 2))),\n",
      "                ('clf',\n",
      "                 RandomForestClassifier(class_weight='balanced', max_depth=5,\n",
      "                                        n_estimators=200))])\n"
     ]
    }
   ],
   "source": [
    "# Select Random Forest model, as this has the highest roc_auc\n",
    "\n",
    "# create a pipeline to transform the data\n",
    "pipe = Pipeline([\n",
    "    ('vect', CountVectorizer()),\n",
    "    ('clf', RandomForestClassifier(class_weight='balanced')),\n",
    "])\n",
    "\n",
    "# create param grid to feed through model\n",
    "params = {\n",
    "    'vect__max_features': (500, 750, 1000, 1500, 2000),\n",
    "    'vect__ngram_range': ((1, 1), (1, 2)),\n",
    "    'clf__max_depth': (1, 5, 10, None),\n",
    "    'clf__min_samples_leaf': (1, 2, 4),\n",
    "    'clf__min_samples_split': (2, 5, 10),\n",
    "    'clf__n_estimators': (10, 100, 200)\n",
    "}\n",
    "\n",
    "# redefine train/test split using same random state to keep same split as above\n",
    "# doing this to be able to perform a grid search on the Count Vectorizer and the Random forest hyperparameters\n",
    "\n",
    "X_sent_train, X_sent_test, y_sent_train, y_sent_test = train_test_split(df_sent['bag_of_words'], df_sent['sent_val'], train_size=0.7, random_state=0, stratify=df_sent['sent_val'])\n",
    "\n",
    "# perform grid search, fit the model with the best parameters\n",
    "grid = GridSearchCV(pipe, param_grid=params, cv=3, scoring='roc_auc_ovr', refit=True)\n",
    "grid.fit(X_sent_train, y_sent_train)\n",
    "\n",
    "# print out best parameters and estimator\n",
    "print('Best score:', grid.best_score_)\n",
    "print('Best parameters set:', grid.best_estimator_)\n",
    "\n",
    "# save predictions\n",
    "y_pred = grid.predict(X_sent_test)"
   ],
   "metadata": {
    "collapsed": false
   }
  },
  {
   "cell_type": "code",
   "execution_count": 47,
   "outputs": [
    {
     "data": {
      "text/plain": "array([[20,  0,  5],\n       [ 2,  0,  3],\n       [ 2,  0, 38]])"
     },
     "execution_count": 47,
     "metadata": {},
     "output_type": "execute_result"
    }
   ],
   "source": [
    "confusion_matrix(y_sent_test, y_pred)"
   ],
   "metadata": {
    "collapsed": false
   }
  },
  {
   "cell_type": "code",
   "execution_count": null,
   "outputs": [],
   "source": [],
   "metadata": {
    "collapsed": false
   }
  }
 ],
 "metadata": {
  "kernelspec": {
   "display_name": "Python 3",
   "language": "python",
   "name": "python3"
  },
  "language_info": {
   "codemirror_mode": {
    "name": "ipython",
    "version": 2
   },
   "file_extension": ".py",
   "mimetype": "text/x-python",
   "name": "python",
   "nbconvert_exporter": "python",
   "pygments_lexer": "ipython2",
   "version": "2.7.6"
  }
 },
 "nbformat": 4,
 "nbformat_minor": 0
}
